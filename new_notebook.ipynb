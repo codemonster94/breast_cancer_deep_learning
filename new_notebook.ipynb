{
 "cells": [
  {
   "cell_type": "code",
   "execution_count": 1,
   "metadata": {},
   "outputs": [],
   "source": [
    "# # import the modules\n",
    "# import os\n",
    "# from os import listdir\n",
    "# benign_list=[]\n",
    "# malignant_list=[]\n",
    "# # get the path/directory\n",
    "# folder_dir = \"/home/gb/breast_cancer_dataset/BreastCancer2-20220223T204409Z-001/BreastCancer2/Train\"\n",
    "# for images in os.listdir(folder_dir):\n",
    "\n",
    "#     # check if the image ends with png\n",
    "#     if (images.startswith(\"maskbenign\")):\n",
    "#         benign_list.append(images)\n",
    "#     else:\n",
    "#         malignant_list.append(images)\n",
    "        \n",
    "        \n",
    "# print(\"benign images :\",len(benign_list))\n",
    "# print(\"malignant images :\",len(malignant_list))"
   ]
  },
  {
   "cell_type": "code",
   "execution_count": 2,
   "metadata": {},
   "outputs": [],
   "source": [
    "# import shutil\n",
    "# import os\n",
    " \n",
    "# file_source = '/home/gb/breast_cancer_dataset/BreastCancer2-20220223T204409Z-001/BreastCancer2/Train'\n",
    "# file_destination_bnine = '/home/gb/breast_cancer_dataset/BreastCancer2-20220223T204409Z-001/BreastCancer2/Train/images_bnine'\n",
    "# file_destination_malign = '/home/gb/breast_cancer_dataset/BreastCancer2-20220223T204409Z-001/BreastCancer2/Train/images_malign'\n",
    "\n",
    "\n",
    "\n",
    "\n",
    "# get_files = os.listdir(file_source)\n",
    "\n",
    "# for image in get_files:\n",
    "\n",
    "#     # check if the image ends with png\n",
    "#     if (image.startswith(\"maskbenign\")):\n",
    "#         shutil.move(file_source +\"/\"+ image, file_destination_bnine)\n",
    "#     else:\n",
    "#         shutil.move(file_source +\"/\"+  image, file_destination_malign)\n",
    "\n",
    "\n",
    "\n",
    " \n"
   ]
  },
  {
   "cell_type": "code",
   "execution_count": 2,
   "metadata": {},
   "outputs": [],
   "source": [
    "# test_path_source=\"/home/gb/breast_cancer_dataset/BreastCancer2-20220223T204409Z-001/BreastCancer2/Test\""
   ]
  },
  {
   "cell_type": "code",
   "execution_count": 3,
   "metadata": {},
   "outputs": [],
   "source": [
    "# import shutil\n",
    "# import os\n",
    " \n",
    "# file_source = test_path_source\n",
    "# file_destination_bnine = \"/home/gb/breast_cancer_dataset/BreastCancer2-20220223T204409Z-001/BreastCancer2/test_benign\"\n",
    "# file_destination_malign = \"/home/gb/breast_cancer_dataset/BreastCancer2-20220223T204409Z-001/BreastCancer2/test_malign\"\n",
    "\n",
    "\n",
    "\n",
    "\n",
    "# get_files = os.listdir(file_source)\n",
    "\n",
    "# for image in get_files:\n",
    "\n",
    "#     # check if the image ends with png\n",
    "#     if (image.startswith(\"maskbenign\")):\n",
    "#         shutil.move(file_source +\"/\"+ image, file_destination_bnine)\n",
    "#     else:\n",
    "#         shutil.move(file_source +\"/\"+  image, file_destination_malign)\n",
    "\n",
    "\n",
    "\n",
    " "
   ]
  },
  {
   "cell_type": "code",
   "execution_count": null,
   "metadata": {},
   "outputs": [],
   "source": []
  },
  {
   "cell_type": "code",
   "execution_count": null,
   "metadata": {},
   "outputs": [],
   "source": []
  },
  {
   "cell_type": "code",
   "execution_count": null,
   "metadata": {},
   "outputs": [],
   "source": []
  },
  {
   "cell_type": "code",
   "execution_count": null,
   "metadata": {},
   "outputs": [],
   "source": []
  },
  {
   "cell_type": "code",
   "execution_count": null,
   "metadata": {},
   "outputs": [],
   "source": []
  },
  {
   "cell_type": "code",
   "execution_count": 8,
   "metadata": {},
   "outputs": [],
   "source": [
    "# !pip install --upgrade tensorflow"
   ]
  },
  {
   "cell_type": "code",
   "execution_count": 95,
   "metadata": {},
   "outputs": [],
   "source": [
    "# import the libraries as shown below\n",
    "\n",
    "from tensorflow.keras.layers import Input, Lambda, Dense, Flatten\n",
    "from tensorflow.keras.models import Model\n",
    "from tensorflow.keras.applications.resnet50 import ResNet50\n",
    "#from keras.applications.vgg16 import VGG16\n",
    "from tensorflow.keras.applications.resnet50 import preprocess_input\n",
    "from tensorflow.keras.preprocessing import image\n",
    "from tensorflow.keras.preprocessing.image import ImageDataGenerator,load_img\n",
    "from tensorflow.keras.models import Sequential\n",
    "import numpy as np\n",
    "from glob import glob\n",
    "import matplotlib.pyplot as plt\n",
    "import tensorflow as tf"
   ]
  },
  {
   "cell_type": "code",
   "execution_count": 4,
   "metadata": {},
   "outputs": [
    {
     "name": "stdout",
     "output_type": "stream",
     "text": [
      "1.19.2\n"
     ]
    }
   ],
   "source": [
    "print(np.__version__)"
   ]
  },
  {
   "cell_type": "code",
   "execution_count": 5,
   "metadata": {},
   "outputs": [],
   "source": [
    "# !pip install tensorflow"
   ]
  },
  {
   "cell_type": "code",
   "execution_count": 6,
   "metadata": {},
   "outputs": [
    {
     "name": "stdout",
     "output_type": "stream",
     "text": [
      "pip 20.2.4 from /home/gb/anaconda3/lib/python3.8/site-packages/pip (python 3.8)\n",
      "Note: you may need to restart the kernel to use updated packages.\n"
     ]
    }
   ],
   "source": [
    "pip --version"
   ]
  },
  {
   "cell_type": "code",
   "execution_count": 75,
   "metadata": {},
   "outputs": [
    {
     "data": {
      "text/plain": [
       "'2.5.0'"
      ]
     },
     "execution_count": 75,
     "metadata": {},
     "output_type": "execute_result"
    }
   ],
   "source": [
    "tf.__version__"
   ]
  },
  {
   "cell_type": "code",
   "execution_count": null,
   "metadata": {},
   "outputs": [],
   "source": [
    "# 224"
   ]
  },
  {
   "cell_type": "code",
   "execution_count": 81,
   "metadata": {},
   "outputs": [],
   "source": [
    "# re-size all the images to this\n",
    "IMAGE_SIZE = [224, 224]\n",
    "\n",
    "train_path = '/home/gb/breast_cancer_dataset/BreastCancer2-20220223T204409Z-001/BreastCancer2/Train'\n",
    "valid_path = '/home/gb/breast_cancer_dataset/BreastCancer2-20220223T204409Z-001/BreastCancer2/Test'"
   ]
  },
  {
   "cell_type": "code",
   "execution_count": 82,
   "metadata": {},
   "outputs": [],
   "source": [
    "# Import the Vgg 16 library as shown below and add preprocessing layer to the front of VGG\n",
    "# Here we will be using imagenet weights\n",
    "\n",
    "resnet = ResNet50(input_shape=IMAGE_SIZE + [3], weights='imagenet', include_top=False)"
   ]
  },
  {
   "cell_type": "code",
   "execution_count": 83,
   "metadata": {},
   "outputs": [],
   "source": [
    "# don't train existing weights\n",
    "for layer in resnet.layers:\n",
    "    layer.trainable = False"
   ]
  },
  {
   "cell_type": "code",
   "execution_count": 84,
   "metadata": {},
   "outputs": [],
   "source": [
    "# useful for getting number of output classes\n",
    "folders = glob('/home/gb/breast_cancer_dataset/BreastCancer2-20220223T204409Z-001/BreastCancer2/Train/*')"
   ]
  },
  {
   "cell_type": "code",
   "execution_count": 85,
   "metadata": {},
   "outputs": [
    {
     "data": {
      "text/plain": [
       "['/home/gb/breast_cancer_dataset/BreastCancer2-20220223T204409Z-001/BreastCancer2/Train/benign_images',\n",
       " '/home/gb/breast_cancer_dataset/BreastCancer2-20220223T204409Z-001/BreastCancer2/Train/malignant_images']"
      ]
     },
     "execution_count": 85,
     "metadata": {},
     "output_type": "execute_result"
    }
   ],
   "source": [
    "folders"
   ]
  },
  {
   "cell_type": "code",
   "execution_count": 86,
   "metadata": {},
   "outputs": [
    {
     "data": {
      "text/plain": [
       "2"
      ]
     },
     "execution_count": 86,
     "metadata": {},
     "output_type": "execute_result"
    }
   ],
   "source": [
    "len(folders)"
   ]
  },
  {
   "cell_type": "code",
   "execution_count": 87,
   "metadata": {},
   "outputs": [],
   "source": [
    "# our layers - you can add more if you want\n",
    "x = Flatten()(resnet.output)\n",
    "x =Dense(256, activation='relu')(x)"
   ]
  },
  {
   "cell_type": "code",
   "execution_count": 88,
   "metadata": {},
   "outputs": [],
   "source": [
    "prediction = Dense(len(folders), activation='sigmoid')(x)\n",
    "\n",
    "# create a model object\n",
    "model = Model(inputs=resnet.input, outputs=prediction)"
   ]
  },
  {
   "cell_type": "code",
   "execution_count": 89,
   "metadata": {},
   "outputs": [
    {
     "name": "stdout",
     "output_type": "stream",
     "text": [
      "Model: \"model_3\"\n",
      "__________________________________________________________________________________________________\n",
      "Layer (type)                    Output Shape         Param #     Connected to                     \n",
      "==================================================================================================\n",
      "input_4 (InputLayer)            [(None, 224, 224, 3) 0                                            \n",
      "__________________________________________________________________________________________________\n",
      "conv1_pad (ZeroPadding2D)       (None, 230, 230, 3)  0           input_4[0][0]                    \n",
      "__________________________________________________________________________________________________\n",
      "conv1_conv (Conv2D)             (None, 112, 112, 64) 9472        conv1_pad[0][0]                  \n",
      "__________________________________________________________________________________________________\n",
      "conv1_bn (BatchNormalization)   (None, 112, 112, 64) 256         conv1_conv[0][0]                 \n",
      "__________________________________________________________________________________________________\n",
      "conv1_relu (Activation)         (None, 112, 112, 64) 0           conv1_bn[0][0]                   \n",
      "__________________________________________________________________________________________________\n",
      "pool1_pad (ZeroPadding2D)       (None, 114, 114, 64) 0           conv1_relu[0][0]                 \n",
      "__________________________________________________________________________________________________\n",
      "pool1_pool (MaxPooling2D)       (None, 56, 56, 64)   0           pool1_pad[0][0]                  \n",
      "__________________________________________________________________________________________________\n",
      "conv2_block1_1_conv (Conv2D)    (None, 56, 56, 64)   4160        pool1_pool[0][0]                 \n",
      "__________________________________________________________________________________________________\n",
      "conv2_block1_1_bn (BatchNormali (None, 56, 56, 64)   256         conv2_block1_1_conv[0][0]        \n",
      "__________________________________________________________________________________________________\n",
      "conv2_block1_1_relu (Activation (None, 56, 56, 64)   0           conv2_block1_1_bn[0][0]          \n",
      "__________________________________________________________________________________________________\n",
      "conv2_block1_2_conv (Conv2D)    (None, 56, 56, 64)   36928       conv2_block1_1_relu[0][0]        \n",
      "__________________________________________________________________________________________________\n",
      "conv2_block1_2_bn (BatchNormali (None, 56, 56, 64)   256         conv2_block1_2_conv[0][0]        \n",
      "__________________________________________________________________________________________________\n",
      "conv2_block1_2_relu (Activation (None, 56, 56, 64)   0           conv2_block1_2_bn[0][0]          \n",
      "__________________________________________________________________________________________________\n",
      "conv2_block1_0_conv (Conv2D)    (None, 56, 56, 256)  16640       pool1_pool[0][0]                 \n",
      "__________________________________________________________________________________________________\n",
      "conv2_block1_3_conv (Conv2D)    (None, 56, 56, 256)  16640       conv2_block1_2_relu[0][0]        \n",
      "__________________________________________________________________________________________________\n",
      "conv2_block1_0_bn (BatchNormali (None, 56, 56, 256)  1024        conv2_block1_0_conv[0][0]        \n",
      "__________________________________________________________________________________________________\n",
      "conv2_block1_3_bn (BatchNormali (None, 56, 56, 256)  1024        conv2_block1_3_conv[0][0]        \n",
      "__________________________________________________________________________________________________\n",
      "conv2_block1_add (Add)          (None, 56, 56, 256)  0           conv2_block1_0_bn[0][0]          \n",
      "                                                                 conv2_block1_3_bn[0][0]          \n",
      "__________________________________________________________________________________________________\n",
      "conv2_block1_out (Activation)   (None, 56, 56, 256)  0           conv2_block1_add[0][0]           \n",
      "__________________________________________________________________________________________________\n",
      "conv2_block2_1_conv (Conv2D)    (None, 56, 56, 64)   16448       conv2_block1_out[0][0]           \n",
      "__________________________________________________________________________________________________\n",
      "conv2_block2_1_bn (BatchNormali (None, 56, 56, 64)   256         conv2_block2_1_conv[0][0]        \n",
      "__________________________________________________________________________________________________\n",
      "conv2_block2_1_relu (Activation (None, 56, 56, 64)   0           conv2_block2_1_bn[0][0]          \n",
      "__________________________________________________________________________________________________\n",
      "conv2_block2_2_conv (Conv2D)    (None, 56, 56, 64)   36928       conv2_block2_1_relu[0][0]        \n",
      "__________________________________________________________________________________________________\n",
      "conv2_block2_2_bn (BatchNormali (None, 56, 56, 64)   256         conv2_block2_2_conv[0][0]        \n",
      "__________________________________________________________________________________________________\n",
      "conv2_block2_2_relu (Activation (None, 56, 56, 64)   0           conv2_block2_2_bn[0][0]          \n",
      "__________________________________________________________________________________________________\n",
      "conv2_block2_3_conv (Conv2D)    (None, 56, 56, 256)  16640       conv2_block2_2_relu[0][0]        \n",
      "__________________________________________________________________________________________________\n",
      "conv2_block2_3_bn (BatchNormali (None, 56, 56, 256)  1024        conv2_block2_3_conv[0][0]        \n",
      "__________________________________________________________________________________________________\n",
      "conv2_block2_add (Add)          (None, 56, 56, 256)  0           conv2_block1_out[0][0]           \n",
      "                                                                 conv2_block2_3_bn[0][0]          \n",
      "__________________________________________________________________________________________________\n",
      "conv2_block2_out (Activation)   (None, 56, 56, 256)  0           conv2_block2_add[0][0]           \n",
      "__________________________________________________________________________________________________\n",
      "conv2_block3_1_conv (Conv2D)    (None, 56, 56, 64)   16448       conv2_block2_out[0][0]           \n",
      "__________________________________________________________________________________________________\n",
      "conv2_block3_1_bn (BatchNormali (None, 56, 56, 64)   256         conv2_block3_1_conv[0][0]        \n",
      "__________________________________________________________________________________________________\n",
      "conv2_block3_1_relu (Activation (None, 56, 56, 64)   0           conv2_block3_1_bn[0][0]          \n",
      "__________________________________________________________________________________________________\n",
      "conv2_block3_2_conv (Conv2D)    (None, 56, 56, 64)   36928       conv2_block3_1_relu[0][0]        \n",
      "__________________________________________________________________________________________________\n",
      "conv2_block3_2_bn (BatchNormali (None, 56, 56, 64)   256         conv2_block3_2_conv[0][0]        \n",
      "__________________________________________________________________________________________________\n",
      "conv2_block3_2_relu (Activation (None, 56, 56, 64)   0           conv2_block3_2_bn[0][0]          \n",
      "__________________________________________________________________________________________________\n",
      "conv2_block3_3_conv (Conv2D)    (None, 56, 56, 256)  16640       conv2_block3_2_relu[0][0]        \n",
      "__________________________________________________________________________________________________\n",
      "conv2_block3_3_bn (BatchNormali (None, 56, 56, 256)  1024        conv2_block3_3_conv[0][0]        \n",
      "__________________________________________________________________________________________________\n",
      "conv2_block3_add (Add)          (None, 56, 56, 256)  0           conv2_block2_out[0][0]           \n",
      "                                                                 conv2_block3_3_bn[0][0]          \n",
      "__________________________________________________________________________________________________\n",
      "conv2_block3_out (Activation)   (None, 56, 56, 256)  0           conv2_block3_add[0][0]           \n",
      "__________________________________________________________________________________________________\n",
      "conv3_block1_1_conv (Conv2D)    (None, 28, 28, 128)  32896       conv2_block3_out[0][0]           \n",
      "__________________________________________________________________________________________________\n",
      "conv3_block1_1_bn (BatchNormali (None, 28, 28, 128)  512         conv3_block1_1_conv[0][0]        \n",
      "__________________________________________________________________________________________________\n",
      "conv3_block1_1_relu (Activation (None, 28, 28, 128)  0           conv3_block1_1_bn[0][0]          \n",
      "__________________________________________________________________________________________________\n",
      "conv3_block1_2_conv (Conv2D)    (None, 28, 28, 128)  147584      conv3_block1_1_relu[0][0]        \n",
      "__________________________________________________________________________________________________\n",
      "conv3_block1_2_bn (BatchNormali (None, 28, 28, 128)  512         conv3_block1_2_conv[0][0]        \n",
      "__________________________________________________________________________________________________\n",
      "conv3_block1_2_relu (Activation (None, 28, 28, 128)  0           conv3_block1_2_bn[0][0]          \n",
      "__________________________________________________________________________________________________\n",
      "conv3_block1_0_conv (Conv2D)    (None, 28, 28, 512)  131584      conv2_block3_out[0][0]           \n",
      "__________________________________________________________________________________________________\n",
      "conv3_block1_3_conv (Conv2D)    (None, 28, 28, 512)  66048       conv3_block1_2_relu[0][0]        \n",
      "__________________________________________________________________________________________________\n",
      "conv3_block1_0_bn (BatchNormali (None, 28, 28, 512)  2048        conv3_block1_0_conv[0][0]        \n",
      "__________________________________________________________________________________________________\n",
      "conv3_block1_3_bn (BatchNormali (None, 28, 28, 512)  2048        conv3_block1_3_conv[0][0]        \n",
      "__________________________________________________________________________________________________\n",
      "conv3_block1_add (Add)          (None, 28, 28, 512)  0           conv3_block1_0_bn[0][0]          \n",
      "                                                                 conv3_block1_3_bn[0][0]          \n",
      "__________________________________________________________________________________________________\n",
      "conv3_block1_out (Activation)   (None, 28, 28, 512)  0           conv3_block1_add[0][0]           \n",
      "__________________________________________________________________________________________________\n",
      "conv3_block2_1_conv (Conv2D)    (None, 28, 28, 128)  65664       conv3_block1_out[0][0]           \n",
      "__________________________________________________________________________________________________\n",
      "conv3_block2_1_bn (BatchNormali (None, 28, 28, 128)  512         conv3_block2_1_conv[0][0]        \n",
      "__________________________________________________________________________________________________\n",
      "conv3_block2_1_relu (Activation (None, 28, 28, 128)  0           conv3_block2_1_bn[0][0]          \n",
      "__________________________________________________________________________________________________\n",
      "conv3_block2_2_conv (Conv2D)    (None, 28, 28, 128)  147584      conv3_block2_1_relu[0][0]        \n",
      "__________________________________________________________________________________________________\n",
      "conv3_block2_2_bn (BatchNormali (None, 28, 28, 128)  512         conv3_block2_2_conv[0][0]        \n",
      "__________________________________________________________________________________________________\n",
      "conv3_block2_2_relu (Activation (None, 28, 28, 128)  0           conv3_block2_2_bn[0][0]          \n",
      "__________________________________________________________________________________________________\n",
      "conv3_block2_3_conv (Conv2D)    (None, 28, 28, 512)  66048       conv3_block2_2_relu[0][0]        \n",
      "__________________________________________________________________________________________________\n",
      "conv3_block2_3_bn (BatchNormali (None, 28, 28, 512)  2048        conv3_block2_3_conv[0][0]        \n",
      "__________________________________________________________________________________________________\n",
      "conv3_block2_add (Add)          (None, 28, 28, 512)  0           conv3_block1_out[0][0]           \n",
      "                                                                 conv3_block2_3_bn[0][0]          \n",
      "__________________________________________________________________________________________________\n",
      "conv3_block2_out (Activation)   (None, 28, 28, 512)  0           conv3_block2_add[0][0]           \n",
      "__________________________________________________________________________________________________\n",
      "conv3_block3_1_conv (Conv2D)    (None, 28, 28, 128)  65664       conv3_block2_out[0][0]           \n",
      "__________________________________________________________________________________________________\n",
      "conv3_block3_1_bn (BatchNormali (None, 28, 28, 128)  512         conv3_block3_1_conv[0][0]        \n",
      "__________________________________________________________________________________________________\n",
      "conv3_block3_1_relu (Activation (None, 28, 28, 128)  0           conv3_block3_1_bn[0][0]          \n",
      "__________________________________________________________________________________________________\n",
      "conv3_block3_2_conv (Conv2D)    (None, 28, 28, 128)  147584      conv3_block3_1_relu[0][0]        \n",
      "__________________________________________________________________________________________________\n",
      "conv3_block3_2_bn (BatchNormali (None, 28, 28, 128)  512         conv3_block3_2_conv[0][0]        \n",
      "__________________________________________________________________________________________________\n",
      "conv3_block3_2_relu (Activation (None, 28, 28, 128)  0           conv3_block3_2_bn[0][0]          \n",
      "__________________________________________________________________________________________________\n",
      "conv3_block3_3_conv (Conv2D)    (None, 28, 28, 512)  66048       conv3_block3_2_relu[0][0]        \n",
      "__________________________________________________________________________________________________\n",
      "conv3_block3_3_bn (BatchNormali (None, 28, 28, 512)  2048        conv3_block3_3_conv[0][0]        \n",
      "__________________________________________________________________________________________________\n",
      "conv3_block3_add (Add)          (None, 28, 28, 512)  0           conv3_block2_out[0][0]           \n",
      "                                                                 conv3_block3_3_bn[0][0]          \n",
      "__________________________________________________________________________________________________\n",
      "conv3_block3_out (Activation)   (None, 28, 28, 512)  0           conv3_block3_add[0][0]           \n",
      "__________________________________________________________________________________________________\n",
      "conv3_block4_1_conv (Conv2D)    (None, 28, 28, 128)  65664       conv3_block3_out[0][0]           \n",
      "__________________________________________________________________________________________________\n",
      "conv3_block4_1_bn (BatchNormali (None, 28, 28, 128)  512         conv3_block4_1_conv[0][0]        \n",
      "__________________________________________________________________________________________________\n",
      "conv3_block4_1_relu (Activation (None, 28, 28, 128)  0           conv3_block4_1_bn[0][0]          \n",
      "__________________________________________________________________________________________________\n",
      "conv3_block4_2_conv (Conv2D)    (None, 28, 28, 128)  147584      conv3_block4_1_relu[0][0]        \n",
      "__________________________________________________________________________________________________\n",
      "conv3_block4_2_bn (BatchNormali (None, 28, 28, 128)  512         conv3_block4_2_conv[0][0]        \n",
      "__________________________________________________________________________________________________\n",
      "conv3_block4_2_relu (Activation (None, 28, 28, 128)  0           conv3_block4_2_bn[0][0]          \n",
      "__________________________________________________________________________________________________\n",
      "conv3_block4_3_conv (Conv2D)    (None, 28, 28, 512)  66048       conv3_block4_2_relu[0][0]        \n",
      "__________________________________________________________________________________________________\n",
      "conv3_block4_3_bn (BatchNormali (None, 28, 28, 512)  2048        conv3_block4_3_conv[0][0]        \n",
      "__________________________________________________________________________________________________\n",
      "conv3_block4_add (Add)          (None, 28, 28, 512)  0           conv3_block3_out[0][0]           \n",
      "                                                                 conv3_block4_3_bn[0][0]          \n",
      "__________________________________________________________________________________________________\n",
      "conv3_block4_out (Activation)   (None, 28, 28, 512)  0           conv3_block4_add[0][0]           \n",
      "__________________________________________________________________________________________________\n",
      "conv4_block1_1_conv (Conv2D)    (None, 14, 14, 256)  131328      conv3_block4_out[0][0]           \n",
      "__________________________________________________________________________________________________\n",
      "conv4_block1_1_bn (BatchNormali (None, 14, 14, 256)  1024        conv4_block1_1_conv[0][0]        \n",
      "__________________________________________________________________________________________________\n",
      "conv4_block1_1_relu (Activation (None, 14, 14, 256)  0           conv4_block1_1_bn[0][0]          \n",
      "__________________________________________________________________________________________________\n",
      "conv4_block1_2_conv (Conv2D)    (None, 14, 14, 256)  590080      conv4_block1_1_relu[0][0]        \n",
      "__________________________________________________________________________________________________\n",
      "conv4_block1_2_bn (BatchNormali (None, 14, 14, 256)  1024        conv4_block1_2_conv[0][0]        \n",
      "__________________________________________________________________________________________________\n",
      "conv4_block1_2_relu (Activation (None, 14, 14, 256)  0           conv4_block1_2_bn[0][0]          \n",
      "__________________________________________________________________________________________________\n",
      "conv4_block1_0_conv (Conv2D)    (None, 14, 14, 1024) 525312      conv3_block4_out[0][0]           \n",
      "__________________________________________________________________________________________________\n",
      "conv4_block1_3_conv (Conv2D)    (None, 14, 14, 1024) 263168      conv4_block1_2_relu[0][0]        \n",
      "__________________________________________________________________________________________________\n",
      "conv4_block1_0_bn (BatchNormali (None, 14, 14, 1024) 4096        conv4_block1_0_conv[0][0]        \n",
      "__________________________________________________________________________________________________\n",
      "conv4_block1_3_bn (BatchNormali (None, 14, 14, 1024) 4096        conv4_block1_3_conv[0][0]        \n",
      "__________________________________________________________________________________________________\n",
      "conv4_block1_add (Add)          (None, 14, 14, 1024) 0           conv4_block1_0_bn[0][0]          \n",
      "                                                                 conv4_block1_3_bn[0][0]          \n",
      "__________________________________________________________________________________________________\n",
      "conv4_block1_out (Activation)   (None, 14, 14, 1024) 0           conv4_block1_add[0][0]           \n",
      "__________________________________________________________________________________________________\n",
      "conv4_block2_1_conv (Conv2D)    (None, 14, 14, 256)  262400      conv4_block1_out[0][0]           \n",
      "__________________________________________________________________________________________________\n",
      "conv4_block2_1_bn (BatchNormali (None, 14, 14, 256)  1024        conv4_block2_1_conv[0][0]        \n",
      "__________________________________________________________________________________________________\n",
      "conv4_block2_1_relu (Activation (None, 14, 14, 256)  0           conv4_block2_1_bn[0][0]          \n",
      "__________________________________________________________________________________________________\n",
      "conv4_block2_2_conv (Conv2D)    (None, 14, 14, 256)  590080      conv4_block2_1_relu[0][0]        \n",
      "__________________________________________________________________________________________________\n",
      "conv4_block2_2_bn (BatchNormali (None, 14, 14, 256)  1024        conv4_block2_2_conv[0][0]        \n",
      "__________________________________________________________________________________________________\n",
      "conv4_block2_2_relu (Activation (None, 14, 14, 256)  0           conv4_block2_2_bn[0][0]          \n",
      "__________________________________________________________________________________________________\n",
      "conv4_block2_3_conv (Conv2D)    (None, 14, 14, 1024) 263168      conv4_block2_2_relu[0][0]        \n",
      "__________________________________________________________________________________________________\n",
      "conv4_block2_3_bn (BatchNormali (None, 14, 14, 1024) 4096        conv4_block2_3_conv[0][0]        \n",
      "__________________________________________________________________________________________________\n",
      "conv4_block2_add (Add)          (None, 14, 14, 1024) 0           conv4_block1_out[0][0]           \n",
      "                                                                 conv4_block2_3_bn[0][0]          \n",
      "__________________________________________________________________________________________________\n",
      "conv4_block2_out (Activation)   (None, 14, 14, 1024) 0           conv4_block2_add[0][0]           \n",
      "__________________________________________________________________________________________________\n",
      "conv4_block3_1_conv (Conv2D)    (None, 14, 14, 256)  262400      conv4_block2_out[0][0]           \n",
      "__________________________________________________________________________________________________\n",
      "conv4_block3_1_bn (BatchNormali (None, 14, 14, 256)  1024        conv4_block3_1_conv[0][0]        \n",
      "__________________________________________________________________________________________________\n",
      "conv4_block3_1_relu (Activation (None, 14, 14, 256)  0           conv4_block3_1_bn[0][0]          \n",
      "__________________________________________________________________________________________________\n",
      "conv4_block3_2_conv (Conv2D)    (None, 14, 14, 256)  590080      conv4_block3_1_relu[0][0]        \n",
      "__________________________________________________________________________________________________\n",
      "conv4_block3_2_bn (BatchNormali (None, 14, 14, 256)  1024        conv4_block3_2_conv[0][0]        \n",
      "__________________________________________________________________________________________________\n",
      "conv4_block3_2_relu (Activation (None, 14, 14, 256)  0           conv4_block3_2_bn[0][0]          \n",
      "__________________________________________________________________________________________________\n",
      "conv4_block3_3_conv (Conv2D)    (None, 14, 14, 1024) 263168      conv4_block3_2_relu[0][0]        \n",
      "__________________________________________________________________________________________________\n",
      "conv4_block3_3_bn (BatchNormali (None, 14, 14, 1024) 4096        conv4_block3_3_conv[0][0]        \n",
      "__________________________________________________________________________________________________\n",
      "conv4_block3_add (Add)          (None, 14, 14, 1024) 0           conv4_block2_out[0][0]           \n",
      "                                                                 conv4_block3_3_bn[0][0]          \n",
      "__________________________________________________________________________________________________\n",
      "conv4_block3_out (Activation)   (None, 14, 14, 1024) 0           conv4_block3_add[0][0]           \n",
      "__________________________________________________________________________________________________\n",
      "conv4_block4_1_conv (Conv2D)    (None, 14, 14, 256)  262400      conv4_block3_out[0][0]           \n",
      "__________________________________________________________________________________________________\n",
      "conv4_block4_1_bn (BatchNormali (None, 14, 14, 256)  1024        conv4_block4_1_conv[0][0]        \n",
      "__________________________________________________________________________________________________\n",
      "conv4_block4_1_relu (Activation (None, 14, 14, 256)  0           conv4_block4_1_bn[0][0]          \n",
      "__________________________________________________________________________________________________\n",
      "conv4_block4_2_conv (Conv2D)    (None, 14, 14, 256)  590080      conv4_block4_1_relu[0][0]        \n",
      "__________________________________________________________________________________________________\n",
      "conv4_block4_2_bn (BatchNormali (None, 14, 14, 256)  1024        conv4_block4_2_conv[0][0]        \n",
      "__________________________________________________________________________________________________\n",
      "conv4_block4_2_relu (Activation (None, 14, 14, 256)  0           conv4_block4_2_bn[0][0]          \n",
      "__________________________________________________________________________________________________\n",
      "conv4_block4_3_conv (Conv2D)    (None, 14, 14, 1024) 263168      conv4_block4_2_relu[0][0]        \n",
      "__________________________________________________________________________________________________\n",
      "conv4_block4_3_bn (BatchNormali (None, 14, 14, 1024) 4096        conv4_block4_3_conv[0][0]        \n",
      "__________________________________________________________________________________________________\n",
      "conv4_block4_add (Add)          (None, 14, 14, 1024) 0           conv4_block3_out[0][0]           \n",
      "                                                                 conv4_block4_3_bn[0][0]          \n",
      "__________________________________________________________________________________________________\n",
      "conv4_block4_out (Activation)   (None, 14, 14, 1024) 0           conv4_block4_add[0][0]           \n",
      "__________________________________________________________________________________________________\n",
      "conv4_block5_1_conv (Conv2D)    (None, 14, 14, 256)  262400      conv4_block4_out[0][0]           \n",
      "__________________________________________________________________________________________________\n",
      "conv4_block5_1_bn (BatchNormali (None, 14, 14, 256)  1024        conv4_block5_1_conv[0][0]        \n",
      "__________________________________________________________________________________________________\n",
      "conv4_block5_1_relu (Activation (None, 14, 14, 256)  0           conv4_block5_1_bn[0][0]          \n",
      "__________________________________________________________________________________________________\n",
      "conv4_block5_2_conv (Conv2D)    (None, 14, 14, 256)  590080      conv4_block5_1_relu[0][0]        \n",
      "__________________________________________________________________________________________________\n",
      "conv4_block5_2_bn (BatchNormali (None, 14, 14, 256)  1024        conv4_block5_2_conv[0][0]        \n",
      "__________________________________________________________________________________________________\n",
      "conv4_block5_2_relu (Activation (None, 14, 14, 256)  0           conv4_block5_2_bn[0][0]          \n",
      "__________________________________________________________________________________________________\n",
      "conv4_block5_3_conv (Conv2D)    (None, 14, 14, 1024) 263168      conv4_block5_2_relu[0][0]        \n",
      "__________________________________________________________________________________________________\n",
      "conv4_block5_3_bn (BatchNormali (None, 14, 14, 1024) 4096        conv4_block5_3_conv[0][0]        \n",
      "__________________________________________________________________________________________________\n",
      "conv4_block5_add (Add)          (None, 14, 14, 1024) 0           conv4_block4_out[0][0]           \n",
      "                                                                 conv4_block5_3_bn[0][0]          \n",
      "__________________________________________________________________________________________________\n",
      "conv4_block5_out (Activation)   (None, 14, 14, 1024) 0           conv4_block5_add[0][0]           \n",
      "__________________________________________________________________________________________________\n",
      "conv4_block6_1_conv (Conv2D)    (None, 14, 14, 256)  262400      conv4_block5_out[0][0]           \n",
      "__________________________________________________________________________________________________\n",
      "conv4_block6_1_bn (BatchNormali (None, 14, 14, 256)  1024        conv4_block6_1_conv[0][0]        \n",
      "__________________________________________________________________________________________________\n",
      "conv4_block6_1_relu (Activation (None, 14, 14, 256)  0           conv4_block6_1_bn[0][0]          \n",
      "__________________________________________________________________________________________________\n",
      "conv4_block6_2_conv (Conv2D)    (None, 14, 14, 256)  590080      conv4_block6_1_relu[0][0]        \n",
      "__________________________________________________________________________________________________\n",
      "conv4_block6_2_bn (BatchNormali (None, 14, 14, 256)  1024        conv4_block6_2_conv[0][0]        \n",
      "__________________________________________________________________________________________________\n",
      "conv4_block6_2_relu (Activation (None, 14, 14, 256)  0           conv4_block6_2_bn[0][0]          \n",
      "__________________________________________________________________________________________________\n",
      "conv4_block6_3_conv (Conv2D)    (None, 14, 14, 1024) 263168      conv4_block6_2_relu[0][0]        \n",
      "__________________________________________________________________________________________________\n",
      "conv4_block6_3_bn (BatchNormali (None, 14, 14, 1024) 4096        conv4_block6_3_conv[0][0]        \n",
      "__________________________________________________________________________________________________\n",
      "conv4_block6_add (Add)          (None, 14, 14, 1024) 0           conv4_block5_out[0][0]           \n",
      "                                                                 conv4_block6_3_bn[0][0]          \n",
      "__________________________________________________________________________________________________\n",
      "conv4_block6_out (Activation)   (None, 14, 14, 1024) 0           conv4_block6_add[0][0]           \n",
      "__________________________________________________________________________________________________\n",
      "conv5_block1_1_conv (Conv2D)    (None, 7, 7, 512)    524800      conv4_block6_out[0][0]           \n",
      "__________________________________________________________________________________________________\n",
      "conv5_block1_1_bn (BatchNormali (None, 7, 7, 512)    2048        conv5_block1_1_conv[0][0]        \n",
      "__________________________________________________________________________________________________\n",
      "conv5_block1_1_relu (Activation (None, 7, 7, 512)    0           conv5_block1_1_bn[0][0]          \n",
      "__________________________________________________________________________________________________\n",
      "conv5_block1_2_conv (Conv2D)    (None, 7, 7, 512)    2359808     conv5_block1_1_relu[0][0]        \n",
      "__________________________________________________________________________________________________\n",
      "conv5_block1_2_bn (BatchNormali (None, 7, 7, 512)    2048        conv5_block1_2_conv[0][0]        \n",
      "__________________________________________________________________________________________________\n",
      "conv5_block1_2_relu (Activation (None, 7, 7, 512)    0           conv5_block1_2_bn[0][0]          \n",
      "__________________________________________________________________________________________________\n",
      "conv5_block1_0_conv (Conv2D)    (None, 7, 7, 2048)   2099200     conv4_block6_out[0][0]           \n",
      "__________________________________________________________________________________________________\n",
      "conv5_block1_3_conv (Conv2D)    (None, 7, 7, 2048)   1050624     conv5_block1_2_relu[0][0]        \n",
      "__________________________________________________________________________________________________\n",
      "conv5_block1_0_bn (BatchNormali (None, 7, 7, 2048)   8192        conv5_block1_0_conv[0][0]        \n",
      "__________________________________________________________________________________________________\n",
      "conv5_block1_3_bn (BatchNormali (None, 7, 7, 2048)   8192        conv5_block1_3_conv[0][0]        \n",
      "__________________________________________________________________________________________________\n",
      "conv5_block1_add (Add)          (None, 7, 7, 2048)   0           conv5_block1_0_bn[0][0]          \n",
      "                                                                 conv5_block1_3_bn[0][0]          \n",
      "__________________________________________________________________________________________________\n",
      "conv5_block1_out (Activation)   (None, 7, 7, 2048)   0           conv5_block1_add[0][0]           \n",
      "__________________________________________________________________________________________________\n",
      "conv5_block2_1_conv (Conv2D)    (None, 7, 7, 512)    1049088     conv5_block1_out[0][0]           \n",
      "__________________________________________________________________________________________________\n",
      "conv5_block2_1_bn (BatchNormali (None, 7, 7, 512)    2048        conv5_block2_1_conv[0][0]        \n",
      "__________________________________________________________________________________________________\n",
      "conv5_block2_1_relu (Activation (None, 7, 7, 512)    0           conv5_block2_1_bn[0][0]          \n",
      "__________________________________________________________________________________________________\n",
      "conv5_block2_2_conv (Conv2D)    (None, 7, 7, 512)    2359808     conv5_block2_1_relu[0][0]        \n",
      "__________________________________________________________________________________________________\n",
      "conv5_block2_2_bn (BatchNormali (None, 7, 7, 512)    2048        conv5_block2_2_conv[0][0]        \n",
      "__________________________________________________________________________________________________\n",
      "conv5_block2_2_relu (Activation (None, 7, 7, 512)    0           conv5_block2_2_bn[0][0]          \n",
      "__________________________________________________________________________________________________\n",
      "conv5_block2_3_conv (Conv2D)    (None, 7, 7, 2048)   1050624     conv5_block2_2_relu[0][0]        \n",
      "__________________________________________________________________________________________________\n",
      "conv5_block2_3_bn (BatchNormali (None, 7, 7, 2048)   8192        conv5_block2_3_conv[0][0]        \n",
      "__________________________________________________________________________________________________\n",
      "conv5_block2_add (Add)          (None, 7, 7, 2048)   0           conv5_block1_out[0][0]           \n",
      "                                                                 conv5_block2_3_bn[0][0]          \n",
      "__________________________________________________________________________________________________\n",
      "conv5_block2_out (Activation)   (None, 7, 7, 2048)   0           conv5_block2_add[0][0]           \n",
      "__________________________________________________________________________________________________\n",
      "conv5_block3_1_conv (Conv2D)    (None, 7, 7, 512)    1049088     conv5_block2_out[0][0]           \n",
      "__________________________________________________________________________________________________\n",
      "conv5_block3_1_bn (BatchNormali (None, 7, 7, 512)    2048        conv5_block3_1_conv[0][0]        \n",
      "__________________________________________________________________________________________________\n",
      "conv5_block3_1_relu (Activation (None, 7, 7, 512)    0           conv5_block3_1_bn[0][0]          \n",
      "__________________________________________________________________________________________________\n",
      "conv5_block3_2_conv (Conv2D)    (None, 7, 7, 512)    2359808     conv5_block3_1_relu[0][0]        \n",
      "__________________________________________________________________________________________________\n",
      "conv5_block3_2_bn (BatchNormali (None, 7, 7, 512)    2048        conv5_block3_2_conv[0][0]        \n",
      "__________________________________________________________________________________________________\n",
      "conv5_block3_2_relu (Activation (None, 7, 7, 512)    0           conv5_block3_2_bn[0][0]          \n",
      "__________________________________________________________________________________________________\n",
      "conv5_block3_3_conv (Conv2D)    (None, 7, 7, 2048)   1050624     conv5_block3_2_relu[0][0]        \n",
      "__________________________________________________________________________________________________\n",
      "conv5_block3_3_bn (BatchNormali (None, 7, 7, 2048)   8192        conv5_block3_3_conv[0][0]        \n",
      "__________________________________________________________________________________________________\n",
      "conv5_block3_add (Add)          (None, 7, 7, 2048)   0           conv5_block2_out[0][0]           \n",
      "                                                                 conv5_block3_3_bn[0][0]          \n",
      "__________________________________________________________________________________________________\n",
      "conv5_block3_out (Activation)   (None, 7, 7, 2048)   0           conv5_block3_add[0][0]           \n",
      "__________________________________________________________________________________________________\n",
      "flatten_4 (Flatten)             (None, 100352)       0           conv5_block3_out[0][0]           \n",
      "__________________________________________________________________________________________________\n",
      "dense_7 (Dense)                 (None, 256)          25690368    flatten_4[0][0]                  \n",
      "__________________________________________________________________________________________________\n",
      "dense_8 (Dense)                 (None, 2)            514         dense_7[0][0]                    \n",
      "==================================================================================================\n",
      "Total params: 49,278,594\n",
      "Trainable params: 25,690,882\n",
      "Non-trainable params: 23,587,712\n",
      "__________________________________________________________________________________________________\n"
     ]
    }
   ],
   "source": [
    "model.summary()"
   ]
  },
  {
   "cell_type": "code",
   "execution_count": 90,
   "metadata": {},
   "outputs": [],
   "source": [
    "# from tensorflow.keras.optimizers import SGD, Adam, RMSprop, adam_v2\n",
    "# lr=0.0001\n",
    "# epoch=10"
   ]
  },
  {
   "cell_type": "code",
   "execution_count": 93,
   "metadata": {},
   "outputs": [],
   "source": [
    "# # tell the model what cost and optimization method to use\n",
    "# model.compile(\n",
    "#   loss='binary_crossentropy',\n",
    "#   optimizer='adam',\n",
    "#   metrics=['accuracy']\n",
    "# )"
   ]
  },
  {
   "cell_type": "code",
   "execution_count": 96,
   "metadata": {},
   "outputs": [
    {
     "ename": "NameError",
     "evalue": "name 'keras' is not defined",
     "output_type": "error",
     "traceback": [
      "\u001b[0;31m---------------------------------------------------------------------------\u001b[0m",
      "\u001b[0;31mNameError\u001b[0m                                 Traceback (most recent call last)",
      "\u001b[0;32m<ipython-input-96-b8822c6bbc7a>\u001b[0m in \u001b[0;36m<module>\u001b[0;34m\u001b[0m\n\u001b[1;32m      2\u001b[0m model.compile(\n\u001b[1;32m      3\u001b[0m   \u001b[0mloss\u001b[0m\u001b[0;34m=\u001b[0m\u001b[0;34m'binary_crossentropy'\u001b[0m\u001b[0;34m,\u001b[0m\u001b[0;34m\u001b[0m\u001b[0;34m\u001b[0m\u001b[0m\n\u001b[0;32m----> 4\u001b[0;31m   \u001b[0moptimizer\u001b[0m\u001b[0;34m=\u001b[0m\u001b[0mkeras\u001b[0m\u001b[0;34m.\u001b[0m\u001b[0moptimizers\u001b[0m\u001b[0;34m.\u001b[0m\u001b[0mAdam\u001b[0m\u001b[0;34m(\u001b[0m\u001b[0mlr\u001b[0m\u001b[0;34m=\u001b[0m\u001b[0;36m0.01\u001b[0m\u001b[0;34m)\u001b[0m\u001b[0;34m,\u001b[0m\u001b[0;34m\u001b[0m\u001b[0;34m\u001b[0m\u001b[0m\n\u001b[0m\u001b[1;32m      5\u001b[0m   \u001b[0mmetrics\u001b[0m\u001b[0;34m=\u001b[0m\u001b[0;34m[\u001b[0m\u001b[0;34m'accuracy'\u001b[0m\u001b[0;34m]\u001b[0m\u001b[0;34m\u001b[0m\u001b[0;34m\u001b[0m\u001b[0m\n\u001b[1;32m      6\u001b[0m )\n",
      "\u001b[0;31mNameError\u001b[0m: name 'keras' is not defined"
     ]
    }
   ],
   "source": [
    "# tell the model what cost and optimization method to use\n",
    "model.compile(\n",
    "  loss='binary_crossentropy',\n",
    "  optimizer=keras.optimizers.Adam(lr=0.01),\n",
    "  metrics=['accuracy']\n",
    ")"
   ]
  },
  {
   "cell_type": "code",
   "execution_count": 56,
   "metadata": {},
   "outputs": [],
   "source": [
    "# from keras.optimizers import adam_v2\n",
    "# optimizer = adam_v2.Adam(learning_rate=lr, decay=lr/epochs)"
   ]
  },
  {
   "cell_type": "code",
   "execution_count": 57,
   "metadata": {},
   "outputs": [],
   "source": [
    "# Use the Image Data Generator to import the images from the dataset\n",
    "from tensorflow.keras.preprocessing.image import ImageDataGenerator\n",
    "\n",
    "train_datagen = ImageDataGenerator(rescale = 1./255,\n",
    "                                   shear_range = 0.2,\n",
    "                                   zoom_range = 0.2,\n",
    "                                   horizontal_flip = True)\n",
    "\n",
    "test_datagen = ImageDataGenerator(rescale = 1./255)"
   ]
  },
  {
   "cell_type": "code",
   "execution_count": 58,
   "metadata": {},
   "outputs": [
    {
     "name": "stdout",
     "output_type": "stream",
     "text": [
      "Found 668 images belonging to 2 classes.\n"
     ]
    }
   ],
   "source": [
    "train= train_path\n",
    "\n",
    "#Make sure you provide the same target size as initialied for the image size\n",
    "training_set = train_datagen.flow_from_directory(train,\n",
    "                                                 target_size = (224, 224),\n",
    "                                                 batch_size = 32,\n",
    "                                                 class_mode = 'categorical')"
   ]
  },
  {
   "cell_type": "code",
   "execution_count": 59,
   "metadata": {},
   "outputs": [
    {
     "name": "stdout",
     "output_type": "stream",
     "text": [
      "Found 147 images belonging to 2 classes.\n"
     ]
    }
   ],
   "source": [
    "test= valid_path\n",
    "test_set = test_datagen.flow_from_directory(test,\n",
    "                                            target_size = (224, 224),\n",
    "                                            batch_size = 32,\n",
    "                                            class_mode = 'categorical')"
   ]
  },
  {
   "cell_type": "code",
   "execution_count": 23,
   "metadata": {},
   "outputs": [
    {
     "name": "stdout",
     "output_type": "stream",
     "text": [
      "Epoch 1/10\n",
      "21/21 [==============================] - 134s 6s/step - loss: 0.7263 - accuracy: 0.5374 - val_loss: 0.6742 - val_accuracy: 0.5714\n",
      "Epoch 2/10\n",
      "21/21 [==============================] - 128s 6s/step - loss: 0.6791 - accuracy: 0.5659 - val_loss: 0.6850 - val_accuracy: 0.5442\n",
      "Epoch 3/10\n",
      "21/21 [==============================] - 132s 6s/step - loss: 0.7403 - accuracy: 0.5165 - val_loss: 0.6772 - val_accuracy: 0.5306\n",
      "Epoch 4/10\n",
      "21/21 [==============================] - 127s 6s/step - loss: 0.7119 - accuracy: 0.5269 - val_loss: 0.6697 - val_accuracy: 0.5782\n",
      "Epoch 5/10\n",
      "21/21 [==============================] - 127s 6s/step - loss: 0.7111 - accuracy: 0.5254 - val_loss: 0.6939 - val_accuracy: 0.5170\n",
      "Epoch 6/10\n",
      "21/21 [==============================] - 127s 6s/step - loss: 0.6899 - accuracy: 0.5494 - val_loss: 0.6895 - val_accuracy: 0.5238\n",
      "Epoch 7/10\n",
      "21/21 [==============================] - 127s 6s/step - loss: 0.7063 - accuracy: 0.5060 - val_loss: 0.6763 - val_accuracy: 0.5306\n",
      "Epoch 8/10\n",
      "21/21 [==============================] - 129s 6s/step - loss: 0.6922 - accuracy: 0.5524 - val_loss: 0.6637 - val_accuracy: 0.6259\n",
      "Epoch 9/10\n",
      "21/21 [==============================] - 127s 6s/step - loss: 0.6794 - accuracy: 0.5614 - val_loss: 0.6642 - val_accuracy: 0.5986\n",
      "Epoch 10/10\n",
      "21/21 [==============================] - 135s 6s/step - loss: 0.6675 - accuracy: 0.6033 - val_loss: 0.7010 - val_accuracy: 0.5170\n"
     ]
    }
   ],
   "source": [
    "# fit the model\n",
    "r = model.fit(\n",
    "  training_set,\n",
    "  validation_data=test_set,\n",
    "  epochs=5,\n",
    "  steps_per_epoch=len(training_set),\n",
    "  validation_steps=len(test_set)\n",
    ")"
   ]
  },
  {
   "cell_type": "code",
   "execution_count": 49,
   "metadata": {},
   "outputs": [
    {
     "ename": "ValueError",
     "evalue": "`validation_split` is only supported for Tensors or NumPy arrays, found following types in the input: [<class 'tensorflow.python.keras.preprocessing.image.DirectoryIterator'>]",
     "output_type": "error",
     "traceback": [
      "\u001b[0;31m---------------------------------------------------------------------------\u001b[0m",
      "\u001b[0;31mValueError\u001b[0m                                Traceback (most recent call last)",
      "\u001b[0;32m<ipython-input-49-7bc1655311e1>\u001b[0m in \u001b[0;36m<module>\u001b[0;34m\u001b[0m\n\u001b[1;32m      1\u001b[0m \u001b[0;31m# fit the model\u001b[0m\u001b[0;34m\u001b[0m\u001b[0;34m\u001b[0m\u001b[0;34m\u001b[0m\u001b[0m\n\u001b[0;32m----> 2\u001b[0;31m r = model.fit(\n\u001b[0m\u001b[1;32m      3\u001b[0m   \u001b[0mtraining_set\u001b[0m\u001b[0;34m,\u001b[0m\u001b[0;34m\u001b[0m\u001b[0;34m\u001b[0m\u001b[0m\n\u001b[1;32m      4\u001b[0m   \u001b[0mvalidation_split\u001b[0m\u001b[0;34m=\u001b[0m\u001b[0;36m0.2\u001b[0m\u001b[0;34m,\u001b[0m\u001b[0;34m\u001b[0m\u001b[0;34m\u001b[0m\u001b[0m\n\u001b[1;32m      5\u001b[0m   \u001b[0mepochs\u001b[0m\u001b[0;34m=\u001b[0m\u001b[0;36m10\u001b[0m\u001b[0;34m,\u001b[0m\u001b[0;34m\u001b[0m\u001b[0;34m\u001b[0m\u001b[0m\n",
      "\u001b[0;32m~/anaconda3/lib/python3.8/site-packages/tensorflow/python/keras/engine/training.py\u001b[0m in \u001b[0;36mfit\u001b[0;34m(self, x, y, batch_size, epochs, verbose, callbacks, validation_split, validation_data, shuffle, class_weight, sample_weight, initial_epoch, steps_per_epoch, validation_steps, validation_batch_size, validation_freq, max_queue_size, workers, use_multiprocessing)\u001b[0m\n\u001b[1;32m   1117\u001b[0m       \u001b[0;31m# `Tensor` and `NumPy` input.\u001b[0m\u001b[0;34m\u001b[0m\u001b[0;34m\u001b[0m\u001b[0;34m\u001b[0m\u001b[0m\n\u001b[1;32m   1118\u001b[0m       (x, y, sample_weight), validation_data = (\n\u001b[0;32m-> 1119\u001b[0;31m           data_adapter.train_validation_split(\n\u001b[0m\u001b[1;32m   1120\u001b[0m               (x, y, sample_weight), validation_split=validation_split))\n\u001b[1;32m   1121\u001b[0m \u001b[0;34m\u001b[0m\u001b[0m\n",
      "\u001b[0;32m~/anaconda3/lib/python3.8/site-packages/tensorflow/python/keras/engine/data_adapter.py\u001b[0m in \u001b[0;36mtrain_validation_split\u001b[0;34m(arrays, validation_split)\u001b[0m\n\u001b[1;32m   1456\u001b[0m   \u001b[0munsplitable\u001b[0m \u001b[0;34m=\u001b[0m \u001b[0;34m[\u001b[0m\u001b[0mtype\u001b[0m\u001b[0;34m(\u001b[0m\u001b[0mt\u001b[0m\u001b[0;34m)\u001b[0m \u001b[0;32mfor\u001b[0m \u001b[0mt\u001b[0m \u001b[0;32min\u001b[0m \u001b[0mflat_arrays\u001b[0m \u001b[0;32mif\u001b[0m \u001b[0;32mnot\u001b[0m \u001b[0m_can_split\u001b[0m\u001b[0;34m(\u001b[0m\u001b[0mt\u001b[0m\u001b[0;34m)\u001b[0m\u001b[0;34m]\u001b[0m\u001b[0;34m\u001b[0m\u001b[0;34m\u001b[0m\u001b[0m\n\u001b[1;32m   1457\u001b[0m   \u001b[0;32mif\u001b[0m \u001b[0munsplitable\u001b[0m\u001b[0;34m:\u001b[0m\u001b[0;34m\u001b[0m\u001b[0;34m\u001b[0m\u001b[0m\n\u001b[0;32m-> 1458\u001b[0;31m     raise ValueError(\n\u001b[0m\u001b[1;32m   1459\u001b[0m         \u001b[0;34m\"`validation_split` is only supported for Tensors or NumPy \"\u001b[0m\u001b[0;34m\u001b[0m\u001b[0;34m\u001b[0m\u001b[0m\n\u001b[1;32m   1460\u001b[0m         \"arrays, found following types in the input: {}\".format(unsplitable))\n",
      "\u001b[0;31mValueError\u001b[0m: `validation_split` is only supported for Tensors or NumPy arrays, found following types in the input: [<class 'tensorflow.python.keras.preprocessing.image.DirectoryIterator'>]"
     ]
    }
   ],
   "source": [
    "# fit the model\n",
    "r = model.fit(\n",
    "  training_set,\n",
    "  validation_data=test_set,\n",
    "  epochs=10,\n",
    "  steps_per_epoch=len(training_set),\n",
    "  validation_steps=len(test_set)\n",
    ")"
   ]
  },
  {
   "cell_type": "code",
   "execution_count": null,
   "metadata": {},
   "outputs": [],
   "source": []
  },
  {
   "cell_type": "code",
   "execution_count": 22,
   "metadata": {},
   "outputs": [
    {
     "data": {
      "image/png": "[encoded data removed]",
      "text/plain": [
       "<Figure size 432x288 with 1 Axes>"
      ]
     },
     "metadata": {
      "needs_background": "light"
     },
     "output_type": "display_data"
    },
    {
     "data": {
      "image/png": "[encoded data removed]",
      "text/plain": [
       "<Figure size 432x288 with 1 Axes>"
      ]
     },
     "metadata": {
      "needs_background": "light"
     },
     "output_type": "display_data"
    },
    {
     "data": {
      "text/plain": [
       "<Figure size 432x288 with 0 Axes>"
      ]
     },
     "metadata": {},
     "output_type": "display_data"
    }
   ],
   "source": [
    "# plot the loss\n",
    "plt.plot(r.history['loss'], label='train loss')\n",
    "plt.plot(r.history['val_loss'], label='val loss')\n",
    "plt.legend()\n",
    "plt.show()\n",
    "plt.savefig('LossVal_loss')\n",
    "\n",
    "# plot the accuracy\n",
    "plt.plot(r.history['accuracy'], label='train acc')\n",
    "plt.plot(r.history['val_accuracy'], label='val acc')\n",
    "plt.legend()\n",
    "plt.show()\n",
    "plt.savefig('AccVal_acc')"
   ]
  },
  {
   "cell_type": "code",
   "execution_count": 32,
   "metadata": {},
   "outputs": [],
   "source": [
    "# save it as a h5 file\n",
    "\n",
    "\n",
    "from tensorflow.keras.models import load_model\n",
    "\n",
    "model.save('/home/gb/PycharmProjects/Deep_Learning_Car_Brand/Datasets/model_resnet5.h5')"
   ]
  },
  {
   "cell_type": "code",
   "execution_count": 39,
   "metadata": {},
   "outputs": [],
   "source": []
  },
  {
   "cell_type": "code",
   "execution_count": null,
   "metadata": {},
   "outputs": [],
   "source": []
  },
  {
   "cell_type": "code",
   "execution_count": null,
   "metadata": {},
   "outputs": [],
   "source": []
  },
  {
   "cell_type": "code",
   "execution_count": null,
   "metadata": {},
   "outputs": [],
   "source": []
  },
  {
   "cell_type": "code",
   "execution_count": null,
   "metadata": {},
   "outputs": [],
   "source": []
  },
  {
   "cell_type": "code",
   "execution_count": null,
   "metadata": {},
   "outputs": [],
   "source": []
  },
  {
   "cell_type": "code",
   "execution_count": null,
   "metadata": {},
   "outputs": [],
   "source": []
  },
  {
   "cell_type": "code",
   "execution_count": null,
   "metadata": {},
   "outputs": [],
   "source": []
  },
  {
   "cell_type": "code",
   "execution_count": null,
   "metadata": {},
   "outputs": [],
   "source": []
  },
  {
   "cell_type": "code",
   "execution_count": null,
   "metadata": {},
   "outputs": [],
   "source": []
  },
  {
   "cell_type": "code",
   "execution_count": null,
   "metadata": {},
   "outputs": [],
   "source": [
    "# TF_LITE_MODEL_FILE_NAME = \"tf_lite_model.tflite\""
   ]
  },
  {
   "cell_type": "code",
   "execution_count": 40,
   "metadata": {},
   "outputs": [
    {
     "name": "stderr",
     "output_type": "stream",
     "text": [
      "/home/gb/anaconda3/lib/python3.8/site-packages/tensorflow/python/keras/utils/generic_utils.py:494: CustomMaskWarning: Custom mask layers require a config and must override get_config. When loading, the custom mask layer must be passed to the custom_objects argument.\n",
      "  warnings.warn('Custom mask layers require a config and must override '\n"
     ]
    },
    {
     "name": "stdout",
     "output_type": "stream",
     "text": [
      "INFO:tensorflow:Assets written to: /tmp/tmprmkrjo2w/assets\n"
     ]
    }
   ],
   "source": [
    "# tf_lite_converter = tf.lite.TFLiteConverter.from_keras_model(model)\n",
    "# tflite_model = tf_lite_converter.convert()"
   ]
  },
  {
   "cell_type": "code",
   "execution_count": null,
   "metadata": {},
   "outputs": [],
   "source": [
    "# tflite_model_name = TF_LITE_MODEL_FILE_NAME\n",
    "# open(tflite_model_name, \"wb\").write(tflite_model)"
   ]
  },
  {
   "cell_type": "code",
   "execution_count": 38,
   "metadata": {
    "collapsed": true
   },
   "outputs": [
    {
     "name": "stdout",
     "output_type": "stream",
     "text": [
      "absl-py==0.12.0\r\n",
      "alabaster==0.7.12\r\n",
      "anaconda-client==1.7.2\r\n",
      "anaconda-navigator==2.0.1\r\n",
      "anaconda-project==0.8.3\r\n",
      "appdirs==1.4.4\r\n",
      "argh==0.26.2\r\n",
      "argon2-cffi @ file:///tmp/build/80754af9/argon2-cffi_1596828493937/work\r\n",
      "asn1crypto @ file:///tmp/build/80754af9/asn1crypto_1596577642040/work\r\n",
      "astroid @ file:///tmp/build/80754af9/astroid_1592495912941/work\r\n",
      "astropy==4.0.2\r\n",
      "astunparse==1.6.3\r\n",
      "async-generator==1.10\r\n",
      "atomicwrites==1.4.0\r\n",
      "attrs @ file:///tmp/build/80754af9/attrs_1604765588209/work\r\n",
      "auto-ts==0.0.35\r\n",
      "autopep8 @ file:///tmp/build/80754af9/autopep8_1596578164842/work\r\n",
      "Babel @ file:///tmp/build/80754af9/babel_1605108370292/work\r\n",
      "backcall==0.2.0\r\n",
      "backports.functools-lru-cache==1.6.1\r\n",
      "backports.shutil-get-terminal-size==1.0.0\r\n",
      "backports.tempfile==1.0\r\n",
      "backports.weakref==1.0.post1\r\n",
      "beautifulsoup4 @ file:///tmp/build/80754af9/beautifulsoup4_1601924105527/work\r\n",
      "bitarray @ file:///tmp/build/80754af9/bitarray_1605065113847/work\r\n",
      "bkcharts==0.2\r\n",
      "bleach @ file:///tmp/build/80754af9/bleach_1600439572647/work\r\n",
      "bokeh @ file:///tmp/build/80754af9/bokeh_1603297833684/work\r\n",
      "boto==2.49.0\r\n",
      "Bottleneck==1.3.2\r\n",
      "brotlipy==0.7.0\r\n",
      "bs4==0.0.1\r\n",
      "cachetools==4.2.1\r\n",
      "catboost==0.24.4\r\n",
      "certifi==2020.12.5\r\n",
      "cffi @ file:///tmp/build/80754af9/cffi_1600699146221/work\r\n",
      "chardet==3.0.4\r\n",
      "click==7.1.2\r\n",
      "click-default-group==1.2.2\r\n",
      "cloudpickle @ file:///tmp/build/80754af9/cloudpickle_1598884132938/work\r\n",
      "clyent==1.2.2\r\n",
      "cmdstanpy==0.9.5\r\n",
      "colorama @ file:///tmp/build/80754af9/colorama_1603211150991/work\r\n",
      "conda==4.10.1\r\n",
      "conda-build==3.20.5\r\n",
      "conda-content-trust @ file:///tmp/build/80754af9/conda-content-trust_1617045594566/work\r\n",
      "conda-package-handling @ file:///tmp/build/80754af9/conda-package-handling_1603018141399/work\r\n",
      "conda-repo-cli @ file:///tmp/build/80754af9/conda-repo-cli_1620168426516/work\r\n",
      "conda-token @ file:///tmp/build/80754af9/conda-token_1620076980546/work\r\n",
      "conda-verify==3.4.2\r\n",
      "configparser==5.0.1\r\n",
      "contextlib2==0.6.0.post1\r\n",
      "convertdate==2.3.1\r\n",
      "crayons==0.4.0\r\n",
      "cryptography @ file:///tmp/build/80754af9/cryptography_1601046815590/work\r\n",
      "cssselect==1.1.0\r\n",
      "cycler==0.10.0\r\n",
      "Cython @ file:///tmp/build/80754af9/cython_1594831566883/work\r\n",
      "cytoolz==0.11.0\r\n",
      "dask @ file:///tmp/build/80754af9/dask-core_1602083700509/work\r\n",
      "decorator==4.4.2\r\n",
      "defusedxml==0.6.0\r\n",
      "diff-match-patch @ file:///tmp/build/80754af9/diff-match-patch_1594828741838/work\r\n",
      "distributed @ file:///tmp/build/80754af9/distributed_1605066520644/work\r\n",
      "docutils==0.16\r\n",
      "entrypoints==0.3\r\n",
      "ephem==3.7.7.1\r\n",
      "et-xmlfile==1.0.1\r\n",
      "fake-useragent==0.1.11\r\n",
      "fastcache==1.1.0\r\n",
      "fbprophet==0.7.1\r\n",
      "filelock==3.0.12\r\n",
      "flake8 @ file:///tmp/build/80754af9/flake8_1601911421857/work\r\n",
      "Flask==1.1.2\r\n",
      "flatbuffers==1.12\r\n",
      "fsspec @ file:///tmp/build/80754af9/fsspec_1602684995936/work\r\n",
      "future==0.18.2\r\n",
      "gast==0.4.0\r\n",
      "gevent @ file:///tmp/build/80754af9/gevent_1601397537062/work\r\n",
      "glob2==0.7\r\n",
      "gmpy2==2.0.8\r\n",
      "google-auth==1.28.0\r\n",
      "google-auth-oauthlib==0.4.3\r\n",
      "google-pasta==0.2.0\r\n",
      "graphviz==0.16\r\n",
      "greenlet @ file:///tmp/build/80754af9/greenlet_1600874013538/work\r\n",
      "grpcio==1.34.1\r\n",
      "h5py==3.1.0\r\n",
      "HeapDict==1.0.1\r\n",
      "hijri-converter==2.1.1\r\n",
      "holidays==0.10.5.2\r\n",
      "html5lib @ file:///tmp/build/80754af9/html5lib_1593446221756/work\r\n",
      "idna @ file:///tmp/build/80754af9/idna_1593446292537/work\r\n",
      "imageio @ file:///tmp/build/80754af9/imageio_1594161405741/work\r\n",
      "imagesize==1.2.0\r\n",
      "imbalanced-learn==0.8.0\r\n",
      "imblearn==0.0\r\n",
      "importlib-metadata @ file:///tmp/build/80754af9/importlib-metadata_1602276842396/work\r\n",
      "imutils==0.5.4\r\n",
      "iniconfig @ file:///tmp/build/80754af9/iniconfig_1602780191262/work\r\n",
      "intervaltree @ file:///tmp/build/80754af9/intervaltree_1598376443606/work\r\n",
      "ipykernel @ file:///tmp/build/80754af9/ipykernel_1596207638929/work/dist/ipykernel-5.3.4-py3-none-any.whl\r\n",
      "ipython @ file:///tmp/build/80754af9/ipython_1604101197014/work\r\n",
      "ipython-genutils==0.2.0\r\n",
      "ipywidgets @ file:///tmp/build/80754af9/ipywidgets_1601490159889/work\r\n",
      "isort @ file:///tmp/build/80754af9/isort_1602603989581/work\r\n",
      "itsdangerous==1.1.0\r\n",
      "jdcal==1.4.1\r\n",
      "jedi @ file:///tmp/build/80754af9/jedi_1592841866100/work\r\n",
      "jeepney @ file:///tmp/build/80754af9/jeepney_1605069705079/work\r\n",
      "Jinja2==2.11.2\r\n",
      "joblib @ file:///tmp/build/80754af9/joblib_1601912903842/work\r\n",
      "json5==0.9.5\r\n",
      "jsonschema @ file:///tmp/build/80754af9/jsonschema_1602607155483/work\r\n",
      "jupyter==1.0.0\r\n",
      "jupyter-client @ file:///tmp/build/80754af9/jupyter_client_1601311786391/work\r\n",
      "jupyter-console @ file:///tmp/build/80754af9/jupyter_console_1598884538475/work\r\n",
      "jupyter-core==4.6.3\r\n",
      "jupyterlab==2.2.6\r\n",
      "jupyterlab-pygments @ file:///tmp/build/80754af9/jupyterlab_pygments_1601490720602/work\r\n",
      "jupyterlab-server @ file:///tmp/build/80754af9/jupyterlab_server_1594164409481/work\r\n",
      "keras-nightly==2.5.0.dev2021032900\r\n",
      "Keras-Preprocessing==1.1.2\r\n",
      "keyring @ file:///tmp/build/80754af9/keyring_1601490835422/work\r\n",
      "kiwisolver @ file:///tmp/build/80754af9/kiwisolver_1604014535162/work\r\n",
      "korean-lunar-calendar==0.2.1\r\n",
      "lazy-object-proxy==1.4.3\r\n",
      "libarchive-c==2.9\r\n",
      "lightgbm==3.1.1\r\n",
      "llvmlite==0.34.0\r\n",
      "locket==0.2.0\r\n",
      "LunarCalendar==0.0.9\r\n",
      "lxml @ file:///tmp/build/80754af9/lxml_1603216285000/work\r\n",
      "Markdown==3.3.4\r\n",
      "MarkupSafe==1.1.1\r\n",
      "matplotlib==3.3.4\r\n",
      "mccabe==0.6.1\r\n",
      "missingno==0.4.1\r\n",
      "mistune==0.8.4\r\n",
      "mkl-fft==1.2.0\r\n",
      "mkl-random==1.1.1\r\n",
      "mkl-service==2.3.0\r\n",
      "mlxtend==0.18.0\r\n",
      "mock==4.0.2\r\n",
      "more-itertools @ file:///tmp/build/80754af9/more-itertools_1605111547926/work\r\n",
      "mpmath==1.1.0\r\n",
      "msgpack==1.0.0\r\n",
      "multipledispatch==0.6.0\r\n",
      "navigator-updater==0.2.1\r\n",
      "nbclient @ file:///tmp/build/80754af9/nbclient_1602783176460/work\r\n",
      "nbconvert @ file:///tmp/build/80754af9/nbconvert_1601914830498/work\r\n",
      "nbformat @ file:///tmp/build/80754af9/nbformat_1602783287752/work\r\n",
      "nest-asyncio @ file:///tmp/build/80754af9/nest-asyncio_1605115881283/work\r\n",
      "networkx @ file:///tmp/build/80754af9/networkx_1598376031484/work\r\n",
      "nltk @ file:///tmp/build/80754af9/nltk_1592496090529/work\r\n",
      "nose==1.3.7\r\n",
      "notebook @ file:///tmp/build/80754af9/notebook_1601501575118/work\r\n",
      "numba @ file:///tmp/build/80754af9/numba_1600100669015/work\r\n",
      "numexpr==2.7.1\r\n",
      "numpy @ file:///tmp/build/80754af9/numpy_and_numpy_base_1603570489231/work\r\n",
      "numpydoc @ file:///tmp/build/80754af9/numpydoc_1605117425582/work\r\n",
      "oauthlib==3.1.0\r\n",
      "object-detection==0.0.3\r\n",
      "olefile==0.46\r\n",
      "opencv-python==4.5.1.48\r\n",
      "openpyxl @ file:///tmp/build/80754af9/openpyxl_1598113097404/work\r\n",
      "opt-einsum==3.3.0\r\n",
      "packaging==20.4\r\n",
      "pandas @ file:///tmp/build/80754af9/pandas_1602088120436/work\r\n",
      "pandocfilters @ file:///tmp/build/80754af9/pandocfilters_1605120460739/work\r\n",
      "parse==1.19.0\r\n",
      "parso==0.7.0\r\n",
      "partd==1.1.0\r\n",
      "path @ file:///tmp/build/80754af9/path_1598376507494/work\r\n",
      "pathlib2==2.3.5\r\n",
      "pathtools==0.1.2\r\n",
      "patsy==0.5.1\r\n",
      "pep8==1.7.1\r\n",
      "pexpect==4.8.0\r\n",
      "pickleshare==0.7.5\r\n",
      "Pillow @ file:///tmp/build/80754af9/pillow_1603822255246/work\r\n",
      "pkginfo==1.6.1\r\n",
      "plotly==4.14.3\r\n",
      "pluggy==0.13.1\r\n",
      "ply==3.11\r\n",
      "pmdarima==1.8.0\r\n",
      "prettytable==2.0.0\r\n",
      "profiling==0.1.3\r\n",
      "prometheus-client==0.8.0\r\n",
      "prompt-toolkit @ file:///tmp/build/80754af9/prompt-toolkit_1602688806899/work\r\n",
      "protobuf==3.15.6\r\n",
      "psutil @ file:///tmp/build/80754af9/psutil_1598370257551/work\r\n",
      "ptyprocess==0.6.0\r\n",
      "py @ file:///tmp/build/80754af9/py_1593446248552/work\r\n",
      "pyasn1==0.4.8\r\n",
      "pyasn1-modules==0.2.8\r\n",
      "pycodestyle==2.6.0\r\n",
      "pycosat==0.6.3\r\n",
      "pycparser @ file:///tmp/build/80754af9/pycparser_1594388511720/work\r\n",
      "pycurl==7.43.0.6\r\n",
      "pydocstyle @ file:///tmp/build/80754af9/pydocstyle_1598885001695/work\r\n",
      "pyee==8.1.0\r\n",
      "pyflakes==2.2.0\r\n",
      "Pygments @ file:///tmp/build/80754af9/pygments_1604103097372/work\r\n",
      "pylint @ file:///tmp/build/80754af9/pylint_1598623985952/work\r\n",
      "PyMeeus==0.4.3\r\n",
      "pyodbc===4.0.0-unsupported\r\n",
      "pyOpenSSL @ file:///tmp/build/80754af9/pyopenssl_1594392929924/work\r\n",
      "pyparsing==2.4.7\r\n",
      "pyppeteer==0.2.5\r\n",
      "pyquery==1.4.3\r\n",
      "pyrsistent @ file:///tmp/build/80754af9/pyrsistent_1600141720057/work\r\n",
      "PySocks==1.7.1\r\n",
      "pystan==2.19.1.1\r\n",
      "pytesseract @ file:///home/conda/feedstock_root/build_artifacts/pytesseract_1605866581960/work\r\n",
      "pytest==0.0.0\r\n",
      "python-dateutil==2.8.1\r\n",
      "python-jsonrpc-server @ file:///tmp/build/80754af9/python-jsonrpc-server_1600278539111/work\r\n",
      "python-language-server @ file:///tmp/build/80754af9/python-language-server_1600454544709/work\r\n",
      "pytz==2020.1\r\n",
      "PyWavelets @ file:///tmp/build/80754af9/pywavelets_1601658317819/work\r\n",
      "pyxdg @ file:///tmp/build/80754af9/pyxdg_1603822279816/work\r\n",
      "PyYAML==5.3.1\r\n",
      "pyzmq==19.0.2\r\n",
      "QDarkStyle==2.8.1\r\n",
      "QtAwesome @ file:///tmp/build/80754af9/qtawesome_1602272867890/work\r\n",
      "qtconsole @ file:///tmp/build/80754af9/qtconsole_1600870028330/work\r\n",
      "QtPy==1.9.0\r\n",
      "regex @ file:///tmp/build/80754af9/regex_1602786672676/work\r\n",
      "requests @ file:///tmp/build/80754af9/requests_1592841827918/work\r\n",
      "requests-html==0.10.0\r\n",
      "requests-oauthlib==1.3.0\r\n",
      "retrying==1.3.3\r\n",
      "rope @ file:///tmp/build/80754af9/rope_1602264064449/work\r\n",
      "rsa==4.7.2\r\n",
      "Rtree==0.9.4\r\n",
      "ruamel-yaml==0.15.87\r\n",
      "scikit-image==0.17.2\r\n",
      "scikit-learn @ file:///tmp/build/80754af9/scikit-learn_1614446682169/work\r\n",
      "scipy==1.6.1\r\n",
      "seaborn @ file:///tmp/build/80754af9/seaborn_1600553570093/work\r\n",
      "SecretStorage==3.1.2\r\n",
      "selenium==3.141.0\r\n",
      "Send2Trash==1.5.0\r\n",
      "setuptools-git==1.2\r\n",
      "simplegeneric==0.8.1\r\n",
      "singledispatch @ file:///tmp/build/80754af9/singledispatch_1602523705405/work\r\n",
      "sip==4.19.13\r\n",
      "six @ file:///tmp/build/80754af9/six_1605205327372/work\r\n",
      "snowballstemmer==2.0.0\r\n",
      "sortedcollections==1.2.1\r\n",
      "sortedcontainers==2.2.2\r\n",
      "soupsieve==2.0.1\r\n",
      "Sphinx @ file:///tmp/build/80754af9/sphinx_1597428793432/work\r\n",
      "sphinxcontrib-applehelp==1.0.2\r\n",
      "sphinxcontrib-devhelp==1.0.2\r\n",
      "sphinxcontrib-htmlhelp==1.0.3\r\n",
      "sphinxcontrib-jsmath==1.0.1\r\n",
      "sphinxcontrib-qthelp==1.0.3\r\n",
      "sphinxcontrib-serializinghtml==1.1.4\r\n",
      "sphinxcontrib-websupport @ file:///tmp/build/80754af9/sphinxcontrib-websupport_1597081412696/work\r\n",
      "spyder @ file:///tmp/build/80754af9/spyder_1599056981321/work\r\n",
      "spyder-kernels @ file:///tmp/build/80754af9/spyder-kernels_1599056754858/work\r\n",
      "SQLAlchemy @ file:///tmp/build/80754af9/sqlalchemy_1603397987316/work\r\n",
      "statsmodels @ file:///tmp/build/80754af9/statsmodels_1602280205159/work\r\n",
      "sympy @ file:///tmp/build/80754af9/sympy_1605119542615/work\r\n",
      "tables==3.6.1\r\n",
      "tblib @ file:///tmp/build/80754af9/tblib_1597928476713/work\r\n",
      "tensorboard==2.5.0\r\n",
      "tensorboard-data-server==0.6.1\r\n",
      "tensorboard-plugin-wit==1.8.0\r\n",
      "tensorflow==2.5.0\r\n",
      "tensorflow-estimator==2.5.0\r\n",
      "termcolor==1.1.0\r\n",
      "terminado==0.9.1\r\n",
      "testpath==0.4.4\r\n",
      "threadpoolctl @ file:///tmp/tmp9twdgx9k/threadpoolctl-2.1.0-py3-none-any.whl\r\n",
      "tifffile==2020.10.1\r\n",
      "toml @ file:///tmp/build/80754af9/toml_1592853716807/work\r\n",
      "toolz @ file:///tmp/build/80754af9/toolz_1601054250827/work\r\n",
      "tornado==6.0.4\r\n",
      "tqdm @ file:///tmp/build/80754af9/tqdm_1602185206534/work\r\n",
      "traitlets @ file:///tmp/build/80754af9/traitlets_1602787416690/work\r\n",
      "typing-extensions @ file:///tmp/build/80754af9/typing_extensions_1598376058250/work\r\n",
      "ujson @ file:///tmp/build/80754af9/ujson_1602523317881/work\r\n",
      "unicodecsv==0.14.1\r\n",
      "urllib3 @ file:///tmp/build/80754af9/urllib3_1603305693037/work\r\n",
      "urwid==2.1.2\r\n",
      "valuedispatch==0.0.1\r\n",
      "w3lib==1.22.0\r\n",
      "watchdog @ file:///tmp/build/80754af9/watchdog_1593447344699/work\r\n",
      "wcwidth @ file:///tmp/build/80754af9/wcwidth_1593447189090/work\r\n",
      "webdriver-manager==3.2.2\r\n",
      "webencodings==0.5.1\r\n",
      "websockets==8.1\r\n",
      "Werkzeug==1.0.1\r\n",
      "widgetsnbextension==3.5.1\r\n",
      "wordcloud==1.8.1\r\n",
      "wrapt==1.12.1\r\n",
      "wurlitzer @ file:///tmp/build/80754af9/wurlitzer_1594753850195/work\r\n",
      "xgboost==1.3.3\r\n",
      "xlrd==1.2.0\r\n",
      "XlsxWriter @ file:///tmp/build/80754af9/xlsxwriter_1602692860603/work\r\n",
      "xlwt==1.3.0\r\n",
      "xmltodict==0.12.0\r\n",
      "yapf @ file:///tmp/build/80754af9/yapf_1593528177422/work\r\n",
      "zict==2.0.0\r\n",
      "zipp @ file:///tmp/build/80754af9/zipp_1604001098328/work\r\n",
      "zope.event==4.5.0\r\n",
      "zope.interface @ file:///tmp/build/80754af9/zope.interface_1602002420968/work\r\n"
     ]
    }
   ],
   "source": [
    "# !pip freeze > \"/home/gb/PycharmProjects/Deep_Learning_Car_Brand/Datasets/requirements.txt\""
   ]
  },
  {
   "cell_type": "markdown",
   "metadata": {},
   "source": [
    "## converting the model to tflite"
   ]
  },
  {
   "cell_type": "code",
   "execution_count": null,
   "metadata": {},
   "outputs": [],
   "source": []
  },
  {
   "cell_type": "code",
   "execution_count": null,
   "metadata": {},
   "outputs": [],
   "source": []
  },
  {
   "cell_type": "code",
   "execution_count": null,
   "metadata": {},
   "outputs": [],
   "source": []
  },
  {
   "cell_type": "code",
   "execution_count": null,
   "metadata": {},
   "outputs": [],
   "source": []
  },
  {
   "cell_type": "code",
   "execution_count": null,
   "metadata": {},
   "outputs": [],
   "source": []
  },
  {
   "cell_type": "markdown",
   "metadata": {},
   "source": [
    "## loading the saved model and predicting "
   ]
  },
  {
   "cell_type": "code",
   "execution_count": 40,
   "metadata": {},
   "outputs": [],
   "source": [
    "y_pred = model.predict(test_set)"
   ]
  },
  {
   "cell_type": "code",
   "execution_count": 41,
   "metadata": {},
   "outputs": [],
   "source": [
    "# y_pred"
   ]
  },
  {
   "cell_type": "code",
   "execution_count": 42,
   "metadata": {},
   "outputs": [],
   "source": [
    "import numpy as np\n",
    "y_pred = np.argmax(y_pred, axis=1)"
   ]
  },
  {
   "cell_type": "code",
   "execution_count": 43,
   "metadata": {},
   "outputs": [
    {
     "data": {
      "text/plain": [
       "array([3, 1, 2, 1, 3, 2, 3, 1, 3, 2, 3, 2, 0, 3, 1, 2, 1, 2, 2, 1, 1, 1,\n",
       "       1, 2, 1, 2, 3, 2, 0, 3, 2, 3, 2, 1, 2, 3, 2, 2, 0, 2, 3, 0, 2, 2,\n",
       "       2, 2, 2, 3, 3, 1, 2, 0, 2, 2, 3, 3, 2, 1, 3, 2, 0, 2, 3, 1, 3, 2,\n",
       "       1])"
      ]
     },
     "execution_count": 43,
     "metadata": {},
     "output_type": "execute_result"
    }
   ],
   "source": [
    "y_pred"
   ]
  },
  {
   "cell_type": "code",
   "execution_count": 44,
   "metadata": {},
   "outputs": [],
   "source": [
    "from tensorflow.keras.models import load_model\n",
    "from tensorflow.keras.preprocessing import image"
   ]
  },
  {
   "cell_type": "code",
   "execution_count": 27,
   "metadata": {},
   "outputs": [],
   "source": [
    "model=load_model('model_resnet20.h5')"
   ]
  },
  {
   "cell_type": "code",
   "execution_count": 28,
   "metadata": {},
   "outputs": [],
   "source": [
    "#reading a new image \n",
    "img=image.load_img('/home/gb/PycharmProjects/Deep_Learning_Car_Brand/Datasets/test/ferrari/8.jpg',target_size=(224,224))"
   ]
  },
  {
   "cell_type": "code",
   "execution_count": 29,
   "metadata": {},
   "outputs": [],
   "source": [
    "x=image.img_to_array(img)\n",
    "# x"
   ]
  },
  {
   "cell_type": "code",
   "execution_count": 30,
   "metadata": {},
   "outputs": [
    {
     "data": {
      "text/plain": [
       "(224, 224, 3)"
      ]
     },
     "execution_count": 30,
     "metadata": {},
     "output_type": "execute_result"
    }
   ],
   "source": [
    "x.shape"
   ]
  },
  {
   "cell_type": "code",
   "execution_count": 31,
   "metadata": {},
   "outputs": [],
   "source": [
    "x=x/255"
   ]
  },
  {
   "cell_type": "code",
   "execution_count": 33,
   "metadata": {},
   "outputs": [
    {
     "data": {
      "text/plain": [
       "(1, 224, 224, 3)"
      ]
     },
     "execution_count": 33,
     "metadata": {},
     "output_type": "execute_result"
    }
   ],
   "source": [
    "x=np.expand_dims(x,axis=0)\n",
    "img_data=preprocess_input(x)\n",
    "img_data.shape"
   ]
  },
  {
   "cell_type": "code",
   "execution_count": 34,
   "metadata": {},
   "outputs": [
    {
     "data": {
      "text/plain": [
       "array([[2.0250992e-03, 1.1566703e-03, 1.7054953e-02, 2.4644135e-02,\n",
       "        5.7517655e-02, 2.5616603e-02, 1.6103381e-02, 2.8557545e-01,\n",
       "        4.6160768e-04, 5.6984448e-01]], dtype=float32)"
      ]
     },
     "execution_count": 34,
     "metadata": {},
     "output_type": "execute_result"
    }
   ],
   "source": [
    "model.predict(img_data)"
   ]
  },
  {
   "cell_type": "code",
   "execution_count": 35,
   "metadata": {},
   "outputs": [],
   "source": [
    "a=np.argmax(model.predict(img_data), axis=1)"
   ]
  },
  {
   "cell_type": "code",
   "execution_count": 36,
   "metadata": {},
   "outputs": [
    {
     "data": {
      "text/plain": [
       "array([9])"
      ]
     },
     "execution_count": 36,
     "metadata": {},
     "output_type": "execute_result"
    }
   ],
   "source": [
    "a"
   ]
  },
  {
   "cell_type": "markdown",
   "metadata": {},
   "source": [
    "## Fine-tune pre-trained model with pruning"
   ]
  },
  {
   "cell_type": "code",
   "execution_count": 33,
   "metadata": {},
   "outputs": [],
   "source": [
    "# ! pip install -q tensorflow-model-optimization"
   ]
  },
  {
   "cell_type": "code",
   "execution_count": 34,
   "metadata": {},
   "outputs": [
    {
     "name": "stdout",
     "output_type": "stream",
     "text": [
      "The tensorboard extension is already loaded. To reload it, use:\n",
      "  %reload_ext tensorboard\n"
     ]
    }
   ],
   "source": [
    "# import tempfile\n",
    "# import os\n",
    "\n",
    "# import tensorflow as tf\n",
    "# import numpy as np\n",
    "\n",
    "# from tensorflow import keras\n",
    "\n",
    "# %load_ext tensorboard\n",
    "\n"
   ]
  },
  {
   "cell_type": "code",
   "execution_count": 35,
   "metadata": {},
   "outputs": [
    {
     "name": "stderr",
     "output_type": "stream",
     "text": [
      "/home/gb/anaconda3/lib/python3.8/site-packages/tensorflow/python/keras/engine/base_layer.py:2191: UserWarning: `layer.add_variable` is deprecated and will be removed in a future version. Please use `layer.add_weight` method instead.\n",
      "  warnings.warn('`layer.add_variable` is deprecated and '\n"
     ]
    },
    {
     "name": "stdout",
     "output_type": "stream",
     "text": [
      "Model: \"model_1\"\n",
      "__________________________________________________________________________________________________\n",
      "Layer (type)                    Output Shape         Param #     Connected to                     \n",
      "==================================================================================================\n",
      "input_1 (InputLayer)            [(None, 224, 224, 3) 0                                            \n",
      "__________________________________________________________________________________________________\n",
      "prune_low_magnitude_conv1_pad ( (None, 230, 230, 3)  1           input_1[0][0]                    \n",
      "__________________________________________________________________________________________________\n",
      "prune_low_magnitude_conv1_conv  (None, 112, 112, 64) 18882       prune_low_magnitude_conv1_pad[0][\n",
      "__________________________________________________________________________________________________\n",
      "prune_low_magnitude_conv1_bn (P (None, 112, 112, 64) 257         prune_low_magnitude_conv1_conv[0]\n",
      "__________________________________________________________________________________________________\n",
      "prune_low_magnitude_conv1_relu  (None, 112, 112, 64) 1           prune_low_magnitude_conv1_bn[0][0\n",
      "__________________________________________________________________________________________________\n",
      "prune_low_magnitude_pool1_pad ( (None, 114, 114, 64) 1           prune_low_magnitude_conv1_relu[0]\n",
      "__________________________________________________________________________________________________\n",
      "prune_low_magnitude_pool1_pool  (None, 56, 56, 64)   1           prune_low_magnitude_pool1_pad[0][\n",
      "__________________________________________________________________________________________________\n",
      "prune_low_magnitude_conv2_block (None, 56, 56, 64)   8258        prune_low_magnitude_pool1_pool[0]\n",
      "__________________________________________________________________________________________________\n",
      "prune_low_magnitude_conv2_block (None, 56, 56, 64)   257         prune_low_magnitude_conv2_block1_\n",
      "__________________________________________________________________________________________________\n",
      "prune_low_magnitude_conv2_block (None, 56, 56, 64)   1           prune_low_magnitude_conv2_block1_\n",
      "__________________________________________________________________________________________________\n",
      "prune_low_magnitude_conv2_block (None, 56, 56, 64)   73794       prune_low_magnitude_conv2_block1_\n",
      "__________________________________________________________________________________________________\n",
      "prune_low_magnitude_conv2_block (None, 56, 56, 64)   257         prune_low_magnitude_conv2_block1_\n",
      "__________________________________________________________________________________________________\n",
      "prune_low_magnitude_conv2_block (None, 56, 56, 64)   1           prune_low_magnitude_conv2_block1_\n",
      "__________________________________________________________________________________________________\n",
      "prune_low_magnitude_conv2_block (None, 56, 56, 256)  33026       prune_low_magnitude_pool1_pool[0]\n",
      "__________________________________________________________________________________________________\n",
      "prune_low_magnitude_conv2_block (None, 56, 56, 256)  33026       prune_low_magnitude_conv2_block1_\n",
      "__________________________________________________________________________________________________\n",
      "prune_low_magnitude_conv2_block (None, 56, 56, 256)  1025        prune_low_magnitude_conv2_block1_\n",
      "__________________________________________________________________________________________________\n",
      "prune_low_magnitude_conv2_block (None, 56, 56, 256)  1025        prune_low_magnitude_conv2_block1_\n",
      "__________________________________________________________________________________________________\n",
      "prune_low_magnitude_conv2_block (None, 56, 56, 256)  1           prune_low_magnitude_conv2_block1_\n",
      "                                                                 prune_low_magnitude_conv2_block1_\n",
      "__________________________________________________________________________________________________\n",
      "prune_low_magnitude_conv2_block (None, 56, 56, 256)  1           prune_low_magnitude_conv2_block1_\n",
      "__________________________________________________________________________________________________\n",
      "prune_low_magnitude_conv2_block (None, 56, 56, 64)   32834       prune_low_magnitude_conv2_block1_\n",
      "__________________________________________________________________________________________________\n",
      "prune_low_magnitude_conv2_block (None, 56, 56, 64)   257         prune_low_magnitude_conv2_block2_\n",
      "__________________________________________________________________________________________________\n",
      "prune_low_magnitude_conv2_block (None, 56, 56, 64)   1           prune_low_magnitude_conv2_block2_\n",
      "__________________________________________________________________________________________________\n",
      "prune_low_magnitude_conv2_block (None, 56, 56, 64)   73794       prune_low_magnitude_conv2_block2_\n",
      "__________________________________________________________________________________________________\n",
      "prune_low_magnitude_conv2_block (None, 56, 56, 64)   257         prune_low_magnitude_conv2_block2_\n",
      "__________________________________________________________________________________________________\n",
      "prune_low_magnitude_conv2_block (None, 56, 56, 64)   1           prune_low_magnitude_conv2_block2_\n",
      "__________________________________________________________________________________________________\n",
      "prune_low_magnitude_conv2_block (None, 56, 56, 256)  33026       prune_low_magnitude_conv2_block2_\n",
      "__________________________________________________________________________________________________\n",
      "prune_low_magnitude_conv2_block (None, 56, 56, 256)  1025        prune_low_magnitude_conv2_block2_\n",
      "__________________________________________________________________________________________________\n",
      "prune_low_magnitude_conv2_block (None, 56, 56, 256)  1           prune_low_magnitude_conv2_block1_\n",
      "                                                                 prune_low_magnitude_conv2_block2_\n",
      "__________________________________________________________________________________________________\n",
      "prune_low_magnitude_conv2_block (None, 56, 56, 256)  1           prune_low_magnitude_conv2_block2_\n",
      "__________________________________________________________________________________________________\n",
      "prune_low_magnitude_conv2_block (None, 56, 56, 64)   32834       prune_low_magnitude_conv2_block2_\n",
      "__________________________________________________________________________________________________\n",
      "prune_low_magnitude_conv2_block (None, 56, 56, 64)   257         prune_low_magnitude_conv2_block3_\n",
      "__________________________________________________________________________________________________\n",
      "prune_low_magnitude_conv2_block (None, 56, 56, 64)   1           prune_low_magnitude_conv2_block3_\n",
      "__________________________________________________________________________________________________\n",
      "prune_low_magnitude_conv2_block (None, 56, 56, 64)   73794       prune_low_magnitude_conv2_block3_\n",
      "__________________________________________________________________________________________________\n",
      "prune_low_magnitude_conv2_block (None, 56, 56, 64)   257         prune_low_magnitude_conv2_block3_\n",
      "__________________________________________________________________________________________________\n",
      "prune_low_magnitude_conv2_block (None, 56, 56, 64)   1           prune_low_magnitude_conv2_block3_\n",
      "__________________________________________________________________________________________________\n",
      "prune_low_magnitude_conv2_block (None, 56, 56, 256)  33026       prune_low_magnitude_conv2_block3_\n",
      "__________________________________________________________________________________________________\n",
      "prune_low_magnitude_conv2_block (None, 56, 56, 256)  1025        prune_low_magnitude_conv2_block3_\n",
      "__________________________________________________________________________________________________\n",
      "prune_low_magnitude_conv2_block (None, 56, 56, 256)  1           prune_low_magnitude_conv2_block2_\n",
      "                                                                 prune_low_magnitude_conv2_block3_\n",
      "__________________________________________________________________________________________________\n",
      "prune_low_magnitude_conv2_block (None, 56, 56, 256)  1           prune_low_magnitude_conv2_block3_\n",
      "__________________________________________________________________________________________________\n",
      "prune_low_magnitude_conv3_block (None, 28, 28, 128)  65666       prune_low_magnitude_conv2_block3_\n",
      "__________________________________________________________________________________________________\n",
      "prune_low_magnitude_conv3_block (None, 28, 28, 128)  513         prune_low_magnitude_conv3_block1_\n",
      "__________________________________________________________________________________________________\n",
      "prune_low_magnitude_conv3_block (None, 28, 28, 128)  1           prune_low_magnitude_conv3_block1_\n",
      "__________________________________________________________________________________________________\n",
      "prune_low_magnitude_conv3_block (None, 28, 28, 128)  295042      prune_low_magnitude_conv3_block1_\n",
      "__________________________________________________________________________________________________\n",
      "prune_low_magnitude_conv3_block (None, 28, 28, 128)  513         prune_low_magnitude_conv3_block1_\n",
      "__________________________________________________________________________________________________\n",
      "prune_low_magnitude_conv3_block (None, 28, 28, 128)  1           prune_low_magnitude_conv3_block1_\n",
      "__________________________________________________________________________________________________\n",
      "prune_low_magnitude_conv3_block (None, 28, 28, 512)  262658      prune_low_magnitude_conv2_block3_\n",
      "__________________________________________________________________________________________________\n",
      "prune_low_magnitude_conv3_block (None, 28, 28, 512)  131586      prune_low_magnitude_conv3_block1_\n",
      "__________________________________________________________________________________________________\n",
      "prune_low_magnitude_conv3_block (None, 28, 28, 512)  2049        prune_low_magnitude_conv3_block1_\n",
      "__________________________________________________________________________________________________\n",
      "prune_low_magnitude_conv3_block (None, 28, 28, 512)  2049        prune_low_magnitude_conv3_block1_\n",
      "__________________________________________________________________________________________________\n",
      "prune_low_magnitude_conv3_block (None, 28, 28, 512)  1           prune_low_magnitude_conv3_block1_\n",
      "                                                                 prune_low_magnitude_conv3_block1_\n",
      "__________________________________________________________________________________________________\n",
      "prune_low_magnitude_conv3_block (None, 28, 28, 512)  1           prune_low_magnitude_conv3_block1_\n",
      "__________________________________________________________________________________________________\n",
      "prune_low_magnitude_conv3_block (None, 28, 28, 128)  131202      prune_low_magnitude_conv3_block1_\n",
      "__________________________________________________________________________________________________\n",
      "prune_low_magnitude_conv3_block (None, 28, 28, 128)  513         prune_low_magnitude_conv3_block2_\n",
      "__________________________________________________________________________________________________\n",
      "prune_low_magnitude_conv3_block (None, 28, 28, 128)  1           prune_low_magnitude_conv3_block2_\n",
      "__________________________________________________________________________________________________\n",
      "prune_low_magnitude_conv3_block (None, 28, 28, 128)  295042      prune_low_magnitude_conv3_block2_\n",
      "__________________________________________________________________________________________________\n",
      "prune_low_magnitude_conv3_block (None, 28, 28, 128)  513         prune_low_magnitude_conv3_block2_\n",
      "__________________________________________________________________________________________________\n",
      "prune_low_magnitude_conv3_block (None, 28, 28, 128)  1           prune_low_magnitude_conv3_block2_\n",
      "__________________________________________________________________________________________________\n",
      "prune_low_magnitude_conv3_block (None, 28, 28, 512)  131586      prune_low_magnitude_conv3_block2_\n",
      "__________________________________________________________________________________________________\n",
      "prune_low_magnitude_conv3_block (None, 28, 28, 512)  2049        prune_low_magnitude_conv3_block2_\n",
      "__________________________________________________________________________________________________\n",
      "prune_low_magnitude_conv3_block (None, 28, 28, 512)  1           prune_low_magnitude_conv3_block1_\n",
      "                                                                 prune_low_magnitude_conv3_block2_\n",
      "__________________________________________________________________________________________________\n",
      "prune_low_magnitude_conv3_block (None, 28, 28, 512)  1           prune_low_magnitude_conv3_block2_\n",
      "__________________________________________________________________________________________________\n",
      "prune_low_magnitude_conv3_block (None, 28, 28, 128)  131202      prune_low_magnitude_conv3_block2_\n",
      "__________________________________________________________________________________________________\n",
      "prune_low_magnitude_conv3_block (None, 28, 28, 128)  513         prune_low_magnitude_conv3_block3_\n",
      "__________________________________________________________________________________________________\n",
      "prune_low_magnitude_conv3_block (None, 28, 28, 128)  1           prune_low_magnitude_conv3_block3_\n",
      "__________________________________________________________________________________________________\n",
      "prune_low_magnitude_conv3_block (None, 28, 28, 128)  295042      prune_low_magnitude_conv3_block3_\n",
      "__________________________________________________________________________________________________\n",
      "prune_low_magnitude_conv3_block (None, 28, 28, 128)  513         prune_low_magnitude_conv3_block3_\n",
      "__________________________________________________________________________________________________\n",
      "prune_low_magnitude_conv3_block (None, 28, 28, 128)  1           prune_low_magnitude_conv3_block3_\n",
      "__________________________________________________________________________________________________\n",
      "prune_low_magnitude_conv3_block (None, 28, 28, 512)  131586      prune_low_magnitude_conv3_block3_\n",
      "__________________________________________________________________________________________________\n",
      "prune_low_magnitude_conv3_block (None, 28, 28, 512)  2049        prune_low_magnitude_conv3_block3_\n",
      "__________________________________________________________________________________________________\n",
      "prune_low_magnitude_conv3_block (None, 28, 28, 512)  1           prune_low_magnitude_conv3_block2_\n",
      "                                                                 prune_low_magnitude_conv3_block3_\n",
      "__________________________________________________________________________________________________\n",
      "prune_low_magnitude_conv3_block (None, 28, 28, 512)  1           prune_low_magnitude_conv3_block3_\n",
      "__________________________________________________________________________________________________\n",
      "prune_low_magnitude_conv3_block (None, 28, 28, 128)  131202      prune_low_magnitude_conv3_block3_\n",
      "__________________________________________________________________________________________________\n",
      "prune_low_magnitude_conv3_block (None, 28, 28, 128)  513         prune_low_magnitude_conv3_block4_\n",
      "__________________________________________________________________________________________________\n",
      "prune_low_magnitude_conv3_block (None, 28, 28, 128)  1           prune_low_magnitude_conv3_block4_\n",
      "__________________________________________________________________________________________________\n",
      "prune_low_magnitude_conv3_block (None, 28, 28, 128)  295042      prune_low_magnitude_conv3_block4_\n",
      "__________________________________________________________________________________________________\n",
      "prune_low_magnitude_conv3_block (None, 28, 28, 128)  513         prune_low_magnitude_conv3_block4_\n",
      "__________________________________________________________________________________________________\n",
      "prune_low_magnitude_conv3_block (None, 28, 28, 128)  1           prune_low_magnitude_conv3_block4_\n",
      "__________________________________________________________________________________________________\n",
      "prune_low_magnitude_conv3_block (None, 28, 28, 512)  131586      prune_low_magnitude_conv3_block4_\n",
      "__________________________________________________________________________________________________\n",
      "prune_low_magnitude_conv3_block (None, 28, 28, 512)  2049        prune_low_magnitude_conv3_block4_\n",
      "__________________________________________________________________________________________________\n",
      "prune_low_magnitude_conv3_block (None, 28, 28, 512)  1           prune_low_magnitude_conv3_block3_\n",
      "                                                                 prune_low_magnitude_conv3_block4_\n",
      "__________________________________________________________________________________________________\n",
      "prune_low_magnitude_conv3_block (None, 28, 28, 512)  1           prune_low_magnitude_conv3_block4_\n",
      "__________________________________________________________________________________________________\n",
      "prune_low_magnitude_conv4_block (None, 14, 14, 256)  262402      prune_low_magnitude_conv3_block4_\n",
      "__________________________________________________________________________________________________\n",
      "prune_low_magnitude_conv4_block (None, 14, 14, 256)  1025        prune_low_magnitude_conv4_block1_\n",
      "__________________________________________________________________________________________________\n",
      "prune_low_magnitude_conv4_block (None, 14, 14, 256)  1           prune_low_magnitude_conv4_block1_\n",
      "__________________________________________________________________________________________________\n",
      "prune_low_magnitude_conv4_block (None, 14, 14, 256)  1179906     prune_low_magnitude_conv4_block1_\n",
      "__________________________________________________________________________________________________\n",
      "prune_low_magnitude_conv4_block (None, 14, 14, 256)  1025        prune_low_magnitude_conv4_block1_\n",
      "__________________________________________________________________________________________________\n",
      "prune_low_magnitude_conv4_block (None, 14, 14, 256)  1           prune_low_magnitude_conv4_block1_\n",
      "__________________________________________________________________________________________________\n",
      "prune_low_magnitude_conv4_block (None, 14, 14, 1024) 1049602     prune_low_magnitude_conv3_block4_\n",
      "__________________________________________________________________________________________________\n",
      "prune_low_magnitude_conv4_block (None, 14, 14, 1024) 525314      prune_low_magnitude_conv4_block1_\n",
      "__________________________________________________________________________________________________\n",
      "prune_low_magnitude_conv4_block (None, 14, 14, 1024) 4097        prune_low_magnitude_conv4_block1_\n",
      "__________________________________________________________________________________________________\n",
      "prune_low_magnitude_conv4_block (None, 14, 14, 1024) 4097        prune_low_magnitude_conv4_block1_\n",
      "__________________________________________________________________________________________________\n",
      "prune_low_magnitude_conv4_block (None, 14, 14, 1024) 1           prune_low_magnitude_conv4_block1_\n",
      "                                                                 prune_low_magnitude_conv4_block1_\n",
      "__________________________________________________________________________________________________\n",
      "prune_low_magnitude_conv4_block (None, 14, 14, 1024) 1           prune_low_magnitude_conv4_block1_\n",
      "__________________________________________________________________________________________________\n",
      "prune_low_magnitude_conv4_block (None, 14, 14, 256)  524546      prune_low_magnitude_conv4_block1_\n",
      "__________________________________________________________________________________________________\n",
      "prune_low_magnitude_conv4_block (None, 14, 14, 256)  1025        prune_low_magnitude_conv4_block2_\n",
      "__________________________________________________________________________________________________\n",
      "prune_low_magnitude_conv4_block (None, 14, 14, 256)  1           prune_low_magnitude_conv4_block2_\n",
      "__________________________________________________________________________________________________\n",
      "prune_low_magnitude_conv4_block (None, 14, 14, 256)  1179906     prune_low_magnitude_conv4_block2_\n",
      "__________________________________________________________________________________________________\n",
      "prune_low_magnitude_conv4_block (None, 14, 14, 256)  1025        prune_low_magnitude_conv4_block2_\n",
      "__________________________________________________________________________________________________\n",
      "prune_low_magnitude_conv4_block (None, 14, 14, 256)  1           prune_low_magnitude_conv4_block2_\n",
      "__________________________________________________________________________________________________\n",
      "prune_low_magnitude_conv4_block (None, 14, 14, 1024) 525314      prune_low_magnitude_conv4_block2_\n",
      "__________________________________________________________________________________________________\n",
      "prune_low_magnitude_conv4_block (None, 14, 14, 1024) 4097        prune_low_magnitude_conv4_block2_\n",
      "__________________________________________________________________________________________________\n",
      "prune_low_magnitude_conv4_block (None, 14, 14, 1024) 1           prune_low_magnitude_conv4_block1_\n",
      "                                                                 prune_low_magnitude_conv4_block2_\n",
      "__________________________________________________________________________________________________\n",
      "prune_low_magnitude_conv4_block (None, 14, 14, 1024) 1           prune_low_magnitude_conv4_block2_\n",
      "__________________________________________________________________________________________________\n",
      "prune_low_magnitude_conv4_block (None, 14, 14, 256)  524546      prune_low_magnitude_conv4_block2_\n",
      "__________________________________________________________________________________________________\n",
      "prune_low_magnitude_conv4_block (None, 14, 14, 256)  1025        prune_low_magnitude_conv4_block3_\n",
      "__________________________________________________________________________________________________\n",
      "prune_low_magnitude_conv4_block (None, 14, 14, 256)  1           prune_low_magnitude_conv4_block3_\n",
      "__________________________________________________________________________________________________\n",
      "prune_low_magnitude_conv4_block (None, 14, 14, 256)  1179906     prune_low_magnitude_conv4_block3_\n",
      "__________________________________________________________________________________________________\n",
      "prune_low_magnitude_conv4_block (None, 14, 14, 256)  1025        prune_low_magnitude_conv4_block3_\n",
      "__________________________________________________________________________________________________\n",
      "prune_low_magnitude_conv4_block (None, 14, 14, 256)  1           prune_low_magnitude_conv4_block3_\n",
      "__________________________________________________________________________________________________\n",
      "prune_low_magnitude_conv4_block (None, 14, 14, 1024) 525314      prune_low_magnitude_conv4_block3_\n",
      "__________________________________________________________________________________________________\n",
      "prune_low_magnitude_conv4_block (None, 14, 14, 1024) 4097        prune_low_magnitude_conv4_block3_\n",
      "__________________________________________________________________________________________________\n",
      "prune_low_magnitude_conv4_block (None, 14, 14, 1024) 1           prune_low_magnitude_conv4_block2_\n",
      "                                                                 prune_low_magnitude_conv4_block3_\n",
      "__________________________________________________________________________________________________\n",
      "prune_low_magnitude_conv4_block (None, 14, 14, 1024) 1           prune_low_magnitude_conv4_block3_\n",
      "__________________________________________________________________________________________________\n",
      "prune_low_magnitude_conv4_block (None, 14, 14, 256)  524546      prune_low_magnitude_conv4_block3_\n",
      "__________________________________________________________________________________________________\n",
      "prune_low_magnitude_conv4_block (None, 14, 14, 256)  1025        prune_low_magnitude_conv4_block4_\n",
      "__________________________________________________________________________________________________\n",
      "prune_low_magnitude_conv4_block (None, 14, 14, 256)  1           prune_low_magnitude_conv4_block4_\n",
      "__________________________________________________________________________________________________\n",
      "prune_low_magnitude_conv4_block (None, 14, 14, 256)  1179906     prune_low_magnitude_conv4_block4_\n",
      "__________________________________________________________________________________________________\n",
      "prune_low_magnitude_conv4_block (None, 14, 14, 256)  1025        prune_low_magnitude_conv4_block4_\n",
      "__________________________________________________________________________________________________\n",
      "prune_low_magnitude_conv4_block (None, 14, 14, 256)  1           prune_low_magnitude_conv4_block4_\n",
      "__________________________________________________________________________________________________\n",
      "prune_low_magnitude_conv4_block (None, 14, 14, 1024) 525314      prune_low_magnitude_conv4_block4_\n",
      "__________________________________________________________________________________________________\n",
      "prune_low_magnitude_conv4_block (None, 14, 14, 1024) 4097        prune_low_magnitude_conv4_block4_\n",
      "__________________________________________________________________________________________________\n",
      "prune_low_magnitude_conv4_block (None, 14, 14, 1024) 1           prune_low_magnitude_conv4_block3_\n",
      "                                                                 prune_low_magnitude_conv4_block4_\n",
      "__________________________________________________________________________________________________\n",
      "prune_low_magnitude_conv4_block (None, 14, 14, 1024) 1           prune_low_magnitude_conv4_block4_\n",
      "__________________________________________________________________________________________________\n",
      "prune_low_magnitude_conv4_block (None, 14, 14, 256)  524546      prune_low_magnitude_conv4_block4_\n",
      "__________________________________________________________________________________________________\n",
      "prune_low_magnitude_conv4_block (None, 14, 14, 256)  1025        prune_low_magnitude_conv4_block5_\n",
      "__________________________________________________________________________________________________\n",
      "prune_low_magnitude_conv4_block (None, 14, 14, 256)  1           prune_low_magnitude_conv4_block5_\n",
      "__________________________________________________________________________________________________\n",
      "prune_low_magnitude_conv4_block (None, 14, 14, 256)  1179906     prune_low_magnitude_conv4_block5_\n",
      "__________________________________________________________________________________________________\n",
      "prune_low_magnitude_conv4_block (None, 14, 14, 256)  1025        prune_low_magnitude_conv4_block5_\n",
      "__________________________________________________________________________________________________\n",
      "prune_low_magnitude_conv4_block (None, 14, 14, 256)  1           prune_low_magnitude_conv4_block5_\n",
      "__________________________________________________________________________________________________\n",
      "prune_low_magnitude_conv4_block (None, 14, 14, 1024) 525314      prune_low_magnitude_conv4_block5_\n",
      "__________________________________________________________________________________________________\n",
      "prune_low_magnitude_conv4_block (None, 14, 14, 1024) 4097        prune_low_magnitude_conv4_block5_\n",
      "__________________________________________________________________________________________________\n",
      "prune_low_magnitude_conv4_block (None, 14, 14, 1024) 1           prune_low_magnitude_conv4_block4_\n",
      "                                                                 prune_low_magnitude_conv4_block5_\n",
      "__________________________________________________________________________________________________\n",
      "prune_low_magnitude_conv4_block (None, 14, 14, 1024) 1           prune_low_magnitude_conv4_block5_\n",
      "__________________________________________________________________________________________________\n",
      "prune_low_magnitude_conv4_block (None, 14, 14, 256)  524546      prune_low_magnitude_conv4_block5_\n",
      "__________________________________________________________________________________________________\n",
      "prune_low_magnitude_conv4_block (None, 14, 14, 256)  1025        prune_low_magnitude_conv4_block6_\n",
      "__________________________________________________________________________________________________\n",
      "prune_low_magnitude_conv4_block (None, 14, 14, 256)  1           prune_low_magnitude_conv4_block6_\n",
      "__________________________________________________________________________________________________\n",
      "prune_low_magnitude_conv4_block (None, 14, 14, 256)  1179906     prune_low_magnitude_conv4_block6_\n",
      "__________________________________________________________________________________________________\n",
      "prune_low_magnitude_conv4_block (None, 14, 14, 256)  1025        prune_low_magnitude_conv4_block6_\n",
      "__________________________________________________________________________________________________\n",
      "prune_low_magnitude_conv4_block (None, 14, 14, 256)  1           prune_low_magnitude_conv4_block6_\n",
      "__________________________________________________________________________________________________\n",
      "prune_low_magnitude_conv4_block (None, 14, 14, 1024) 525314      prune_low_magnitude_conv4_block6_\n",
      "__________________________________________________________________________________________________\n",
      "prune_low_magnitude_conv4_block (None, 14, 14, 1024) 4097        prune_low_magnitude_conv4_block6_\n",
      "__________________________________________________________________________________________________\n",
      "prune_low_magnitude_conv4_block (None, 14, 14, 1024) 1           prune_low_magnitude_conv4_block5_\n",
      "                                                                 prune_low_magnitude_conv4_block6_\n",
      "__________________________________________________________________________________________________\n",
      "prune_low_magnitude_conv4_block (None, 14, 14, 1024) 1           prune_low_magnitude_conv4_block6_\n",
      "__________________________________________________________________________________________________\n",
      "prune_low_magnitude_conv5_block (None, 7, 7, 512)    1049090     prune_low_magnitude_conv4_block6_\n",
      "__________________________________________________________________________________________________\n",
      "prune_low_magnitude_conv5_block (None, 7, 7, 512)    2049        prune_low_magnitude_conv5_block1_\n",
      "__________________________________________________________________________________________________\n",
      "prune_low_magnitude_conv5_block (None, 7, 7, 512)    1           prune_low_magnitude_conv5_block1_\n",
      "__________________________________________________________________________________________________\n",
      "prune_low_magnitude_conv5_block (None, 7, 7, 512)    4719106     prune_low_magnitude_conv5_block1_\n",
      "__________________________________________________________________________________________________\n",
      "prune_low_magnitude_conv5_block (None, 7, 7, 512)    2049        prune_low_magnitude_conv5_block1_\n",
      "__________________________________________________________________________________________________\n",
      "prune_low_magnitude_conv5_block (None, 7, 7, 512)    1           prune_low_magnitude_conv5_block1_\n",
      "__________________________________________________________________________________________________\n",
      "prune_low_magnitude_conv5_block (None, 7, 7, 2048)   4196354     prune_low_magnitude_conv4_block6_\n",
      "__________________________________________________________________________________________________\n",
      "prune_low_magnitude_conv5_block (None, 7, 7, 2048)   2099202     prune_low_magnitude_conv5_block1_\n",
      "__________________________________________________________________________________________________\n",
      "prune_low_magnitude_conv5_block (None, 7, 7, 2048)   8193        prune_low_magnitude_conv5_block1_\n",
      "__________________________________________________________________________________________________\n",
      "prune_low_magnitude_conv5_block (None, 7, 7, 2048)   8193        prune_low_magnitude_conv5_block1_\n",
      "__________________________________________________________________________________________________\n",
      "prune_low_magnitude_conv5_block (None, 7, 7, 2048)   1           prune_low_magnitude_conv5_block1_\n",
      "                                                                 prune_low_magnitude_conv5_block1_\n",
      "__________________________________________________________________________________________________\n",
      "prune_low_magnitude_conv5_block (None, 7, 7, 2048)   1           prune_low_magnitude_conv5_block1_\n",
      "__________________________________________________________________________________________________\n",
      "prune_low_magnitude_conv5_block (None, 7, 7, 512)    2097666     prune_low_magnitude_conv5_block1_\n",
      "__________________________________________________________________________________________________\n",
      "prune_low_magnitude_conv5_block (None, 7, 7, 512)    2049        prune_low_magnitude_conv5_block2_\n",
      "__________________________________________________________________________________________________\n",
      "prune_low_magnitude_conv5_block (None, 7, 7, 512)    1           prune_low_magnitude_conv5_block2_\n",
      "__________________________________________________________________________________________________\n",
      "prune_low_magnitude_conv5_block (None, 7, 7, 512)    4719106     prune_low_magnitude_conv5_block2_\n",
      "__________________________________________________________________________________________________\n",
      "prune_low_magnitude_conv5_block (None, 7, 7, 512)    2049        prune_low_magnitude_conv5_block2_\n",
      "__________________________________________________________________________________________________\n",
      "prune_low_magnitude_conv5_block (None, 7, 7, 512)    1           prune_low_magnitude_conv5_block2_\n",
      "__________________________________________________________________________________________________\n",
      "prune_low_magnitude_conv5_block (None, 7, 7, 2048)   2099202     prune_low_magnitude_conv5_block2_\n",
      "__________________________________________________________________________________________________\n",
      "prune_low_magnitude_conv5_block (None, 7, 7, 2048)   8193        prune_low_magnitude_conv5_block2_\n",
      "__________________________________________________________________________________________________\n",
      "prune_low_magnitude_conv5_block (None, 7, 7, 2048)   1           prune_low_magnitude_conv5_block1_\n",
      "                                                                 prune_low_magnitude_conv5_block2_\n",
      "__________________________________________________________________________________________________\n",
      "prune_low_magnitude_conv5_block (None, 7, 7, 2048)   1           prune_low_magnitude_conv5_block2_\n",
      "__________________________________________________________________________________________________\n",
      "prune_low_magnitude_conv5_block (None, 7, 7, 512)    2097666     prune_low_magnitude_conv5_block2_\n",
      "__________________________________________________________________________________________________\n",
      "prune_low_magnitude_conv5_block (None, 7, 7, 512)    2049        prune_low_magnitude_conv5_block3_\n",
      "__________________________________________________________________________________________________\n",
      "prune_low_magnitude_conv5_block (None, 7, 7, 512)    1           prune_low_magnitude_conv5_block3_\n",
      "__________________________________________________________________________________________________\n",
      "prune_low_magnitude_conv5_block (None, 7, 7, 512)    4719106     prune_low_magnitude_conv5_block3_\n",
      "__________________________________________________________________________________________________\n",
      "prune_low_magnitude_conv5_block (None, 7, 7, 512)    2049        prune_low_magnitude_conv5_block3_\n",
      "__________________________________________________________________________________________________\n",
      "prune_low_magnitude_conv5_block (None, 7, 7, 512)    1           prune_low_magnitude_conv5_block3_\n",
      "__________________________________________________________________________________________________\n",
      "prune_low_magnitude_conv5_block (None, 7, 7, 2048)   2099202     prune_low_magnitude_conv5_block3_\n",
      "__________________________________________________________________________________________________\n",
      "prune_low_magnitude_conv5_block (None, 7, 7, 2048)   8193        prune_low_magnitude_conv5_block3_\n",
      "__________________________________________________________________________________________________\n",
      "prune_low_magnitude_conv5_block (None, 7, 7, 2048)   1           prune_low_magnitude_conv5_block2_\n",
      "                                                                 prune_low_magnitude_conv5_block3_\n",
      "__________________________________________________________________________________________________\n",
      "prune_low_magnitude_conv5_block (None, 7, 7, 2048)   1           prune_low_magnitude_conv5_block3_\n",
      "__________________________________________________________________________________________________\n",
      "prune_low_magnitude_flatten_1 ( (None, 100352)       1           prune_low_magnitude_conv5_block3_\n",
      "__________________________________________________________________________________________________\n",
      "prune_low_magnitude_dense_2 (Pr (None, 256)          51380482    prune_low_magnitude_flatten_1[0][\n",
      "__________________________________________________________________________________________________\n",
      "prune_low_magnitude_dense_3 (Pr (None, 10)           5132        prune_low_magnitude_dense_2[0][0]\n",
      "==================================================================================================\n",
      "Total params: 98,428,466\n",
      "Trainable params: 25,692,938\n",
      "Non-trainable params: 72,735,528\n",
      "__________________________________________________________________________________________________\n"
     ]
    }
   ],
   "source": [
    "# import tensorflow_model_optimization as tfmot\n",
    "\n",
    "# prune_low_magnitude = tfmot.sparsity.keras.prune_low_magnitude\n",
    "\n",
    "# # Compute end step to finish pruning after 2 epochs.\n",
    "# batch_size = 128\n",
    "# epochs = 2\n",
    "# validation_split = 0.1 # 10% of training set will be used for validation set. \n",
    "# training_set_number=120\n",
    "# num_images = training_set_number * (1 - validation_split)\n",
    "# end_step = np.ceil(num_images / batch_size).astype(np.int32) * epochs\n",
    "\n",
    "# # Define model for pruning.\n",
    "# pruning_params = {\n",
    "#       'pruning_schedule': tfmot.sparsity.keras.PolynomialDecay(initial_sparsity=0.50,\n",
    "#                                                                final_sparsity=0.80,\n",
    "#                                                                begin_step=0,\n",
    "#                                                                end_step=end_step)\n",
    "# }\n",
    "\n",
    "# model_for_pruning = prune_low_magnitude(model, **pruning_params)\n",
    "\n",
    "# # `prune_low_magnitude` requires a recompile.\n",
    "# model_for_pruning.compile(optimizer='adam',\n",
    "#               loss=tf.keras.losses.SparseCategoricalCrossentropy(from_logits=True),\n",
    "#               metrics=['accuracy'])\n",
    "\n",
    "# model_for_pruning.summary()"
   ]
  },
  {
   "cell_type": "code",
   "execution_count": 36,
   "metadata": {},
   "outputs": [],
   "source": [
    "# logdir = tempfile.mkdtemp()\n",
    "\n",
    "# callbacks = [\n",
    "#   tfmot.sparsity.keras.UpdatePruningStep(),\n",
    "#   tfmot.sparsity.keras.PruningSummaries(log_dir=logdir),\n",
    "# ]\n"
   ]
  },
  {
   "cell_type": "code",
   "execution_count": 1,
   "metadata": {},
   "outputs": [
    {
     "ename": "NameError",
     "evalue": "name 'model_for_pruning' is not defined",
     "output_type": "error",
     "traceback": [
      "\u001b[0;31m---------------------------------------------------------------------------\u001b[0m",
      "\u001b[0;31mNameError\u001b[0m                                 Traceback (most recent call last)",
      "\u001b[0;32m<ipython-input-1-7d327451a038>\u001b[0m in \u001b[0;36m<module>\u001b[0;34m\u001b[0m\n\u001b[0;32m----> 1\u001b[0;31m model_for_pruning.fit(x=training_set, y=training_set,batch_size=batch_size, epochs=epochs,\n\u001b[0m\u001b[1;32m      2\u001b[0m                                                       \u001b[0mvalidation_data\u001b[0m\u001b[0;34m=\u001b[0m\u001b[0mtest_set\u001b[0m\u001b[0;34m,\u001b[0m\u001b[0;34m\u001b[0m\u001b[0;34m\u001b[0m\u001b[0m\n\u001b[1;32m      3\u001b[0m                                                       callbacks=callbacks)\n",
      "\u001b[0;31mNameError\u001b[0m: name 'model_for_pruning' is not defined"
     ]
    }
   ],
   "source": [
    "# model_for_pruning.fit(x=training_set, y=training_set,batch_size=batch_size, epochs=epochs,\n",
    "#                                                       validation_data=test_set,\n",
    "#                                                       callbacks=callbacks)"
   ]
  }
 ],
 "metadata": {
  "kernelspec": {
   "display_name": "Python 3",
   "language": "python",
   "name": "python3"
  },
  "language_info": {
   "codemirror_mode": {
    "name": "ipython",
    "version": 3
   },
   "file_extension": ".py",
   "mimetype": "text/x-python",
   "name": "python",
   "nbconvert_exporter": "python",
   "pygments_lexer": "ipython3",
   "version": "3.8.5"
  }
 },
 "nbformat": 4,
 "nbformat_minor": 4
}
